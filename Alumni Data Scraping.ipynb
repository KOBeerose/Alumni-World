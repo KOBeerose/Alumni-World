{
 "cells": [
  {
   "cell_type": "code",
   "execution_count": 1,
   "id": "1306a832",
   "metadata": {},
   "outputs": [],
   "source": [
    "# importing all the necessary libaries\n",
    "import os\n",
    "import csv\n",
    "import time\n",
    "import string\n",
    "import keyboard\n",
    "from re import search\n",
    "\n",
    "from selenium import webdriver\n",
    "from selenium.webdriver.common.by import By\n",
    "from selenium.webdriver.common.keys import Keys\n",
    "from selenium.webdriver.chrome.service import Service\n",
    "from selenium.webdriver.chrome.options import Options\n",
    "from selenium.webdriver.support.ui import WebDriverWait\n",
    "from webdriver_manager.chrome import ChromeDriverManager\n",
    "from selenium.webdriver.support import expected_conditions as EC"
   ]
  },
  {
   "cell_type": "code",
   "execution_count": 2,
   "id": "83598c68",
   "metadata": {},
   "outputs": [],
   "source": [
    "# define your school name right here:\n",
    "\n",
    "School_name = \"Institut National des Postes et Télécommunications\""
   ]
  },
  {
   "cell_type": "code",
   "execution_count": 14,
   "id": "8146a21c",
   "metadata": {
    "scrolled": false
   },
   "outputs": [
    {
     "name": "stderr",
     "output_type": "stream",
     "text": [
      "\n",
      "\n",
      "====== WebDriver manager ======\n",
      "Current google-chrome version is 99.0.4844\n",
      "Get LATEST chromedriver version for 99.0.4844 google-chrome\n",
      "Driver [C:\\Users\\taha_\\.wdm\\drivers\\chromedriver\\win32\\99.0.4844.51\\chromedriver.exe] found in cache\n"
     ]
    }
   ],
   "source": [
    "# defining the webdriver and config btw this code will be almost the same in all of your selenium scripts\n",
    "options = Options()\n",
    "\n",
    "# !!! blocking browser notifications !!!\n",
    "prefs = {\"profile.default_content_setting_values.notifications\": 2}\n",
    "options.add_experimental_option(\"prefs\", prefs)\n",
    "\n",
    "# starting in maximized window\n",
    "options.add_argument(\"start-maximized\")\n",
    "options.add_argument(\"--disable-default-apps\")\n",
    "driver = webdriver.Chrome(service=Service(ChromeDriverManager().install()), options=options)"
   ]
  },
  {
   "cell_type": "code",
   "execution_count": 15,
   "id": "e5137bf1",
   "metadata": {},
   "outputs": [],
   "source": [
    "driver.get(\"https://www.linkedin.com/login/\")"
   ]
  },
  {
   "cell_type": "code",
   "execution_count": 16,
   "id": "6e3a93bc",
   "metadata": {},
   "outputs": [],
   "source": [
    "username = os.environ.get(\"ln_us\")\n",
    "password = os.environ.get(\"ln_ps\")"
   ]
  },
  {
   "cell_type": "code",
   "execution_count": 17,
   "id": "1518a7f3",
   "metadata": {},
   "outputs": [],
   "source": [
    "username_field = driver.find_element(By.ID,\"username\")\n",
    "username_field.send_keys(username)\n",
    "\n",
    "password_field = driver.find_element(By.ID,\"password\")\n",
    "password_field.send_keys(password)\n",
    "\n",
    "password_field.submit()"
   ]
  },
  {
   "cell_type": "code",
   "execution_count": 18,
   "id": "542f0747",
   "metadata": {},
   "outputs": [
    {
     "data": {
      "text/plain": [
       "'search_bar = driver.find_element(By.CLASS_NAME,\"search-global-typeahead__input\")\\nsearch_bar.send_keys(School_name)\\ntime.sleep(1)\\nkeyboard.press_and_release(\\'enter\\')'"
      ]
     },
     "execution_count": 18,
     "metadata": {},
     "output_type": "execute_result"
    }
   ],
   "source": [
    "'''search_bar = driver.find_element(By.CLASS_NAME,\"search-global-typeahead__input\")\n",
    "search_bar.send_keys(School_name)\n",
    "time.sleep(1)\n",
    "keyboard.press_and_release('enter')'''"
   ]
  },
  {
   "cell_type": "code",
   "execution_count": 19,
   "id": "6b576b24",
   "metadata": {},
   "outputs": [],
   "source": [
    "driver.get(\"https://www.linkedin.com/search/results/schools/?keywords=\"+School_name)\n"
   ]
  },
  {
   "cell_type": "code",
   "execution_count": 20,
   "id": "af565a38",
   "metadata": {},
   "outputs": [],
   "source": [
    "time.sleep(2)\n",
    "first_result = WebDriverWait(driver, 2).until(EC.element_to_be_clickable((By.XPATH, \"\"\"//*[@id=\"main\"]/div/div/div[1]/ul/li/div/div/div[2]/div/div[1]/div/span/span/a\"\"\")))\n",
    "first_result.click()"
   ]
  },
  {
   "cell_type": "code",
   "execution_count": 21,
   "id": "e21ef569",
   "metadata": {},
   "outputs": [],
   "source": [
    "driver.get(driver.current_url+\"people\")"
   ]
  },
  {
   "cell_type": "code",
   "execution_count": 22,
   "id": "022bb07d",
   "metadata": {
    "scrolled": false
   },
   "outputs": [
    {
     "name": "stdout",
     "output_type": "stream",
     "text": [
      "0\n"
     ]
    }
   ],
   "source": [
    "count = 0\n",
    "items_urls = []\n",
    "testing = []\n",
    "cards_links = driver.find_elements(By.CLASS_NAME, \"org-people-profile-card__profile-info\")\n",
    "print(len(cards_links))\n",
    "for card in cards_links: print(card.text+\"\\n----------------------------------\\n\")\n"
   ]
  },
  {
   "cell_type": "code",
   "execution_count": 23,
   "id": "a9221218",
   "metadata": {},
   "outputs": [
    {
     "ename": "KeyboardInterrupt",
     "evalue": "",
     "output_type": "error",
     "traceback": [
      "\u001b[1;31m---------------------------------------------------------------------------\u001b[0m",
      "\u001b[1;31mKeyboardInterrupt\u001b[0m                         Traceback (most recent call last)",
      "\u001b[1;32m~\\AppData\\Local\\Temp/ipykernel_10928/3658743407.py\u001b[0m in \u001b[0;36m<module>\u001b[1;34m\u001b[0m\n\u001b[0;32m      3\u001b[0m     \u001b[1;31m# keyboard.press_and_release('down arrow')\u001b[0m\u001b[1;33m\u001b[0m\u001b[1;33m\u001b[0m\u001b[0m\n\u001b[0;32m      4\u001b[0m     \u001b[0mdriver\u001b[0m\u001b[1;33m.\u001b[0m\u001b[0mexecute_script\u001b[0m\u001b[1;33m(\u001b[0m\u001b[1;34m\"window.scrollTo(0, document.body.scrollHeight);\"\u001b[0m\u001b[1;33m)\u001b[0m\u001b[1;33m\u001b[0m\u001b[1;33m\u001b[0m\u001b[0m\n\u001b[1;32m----> 5\u001b[1;33m     \u001b[0mtime\u001b[0m\u001b[1;33m.\u001b[0m\u001b[0msleep\u001b[0m\u001b[1;33m(\u001b[0m\u001b[1;36m.7\u001b[0m\u001b[1;33m)\u001b[0m\u001b[1;33m\u001b[0m\u001b[1;33m\u001b[0m\u001b[0m\n\u001b[0m\u001b[0;32m      6\u001b[0m     \u001b[1;32mtry\u001b[0m\u001b[1;33m:\u001b[0m\u001b[1;33m\u001b[0m\u001b[1;33m\u001b[0m\u001b[0m\n\u001b[0;32m      7\u001b[0m         \u001b[0mshow_more\u001b[0m \u001b[1;33m=\u001b[0m \u001b[0mWebDriverWait\u001b[0m\u001b[1;33m(\u001b[0m\u001b[0mdriver\u001b[0m\u001b[1;33m,\u001b[0m \u001b[1;36m1\u001b[0m\u001b[1;33m)\u001b[0m\u001b[1;33m.\u001b[0m\u001b[0muntil\u001b[0m\u001b[1;33m(\u001b[0m\u001b[0mEC\u001b[0m\u001b[1;33m.\u001b[0m\u001b[0melement_to_be_clickable\u001b[0m\u001b[1;33m(\u001b[0m\u001b[1;33m(\u001b[0m\u001b[0mBy\u001b[0m\u001b[1;33m.\u001b[0m\u001b[0mXPATH\u001b[0m\u001b[1;33m,\u001b[0m \u001b[1;34m\"//*[contains(text(), 'Show more results')]\"\u001b[0m\u001b[1;33m)\u001b[0m\u001b[1;33m)\u001b[0m\u001b[1;33m)\u001b[0m\u001b[1;33m\u001b[0m\u001b[1;33m\u001b[0m\u001b[0m\n",
      "\u001b[1;31mKeyboardInterrupt\u001b[0m: "
     ]
    }
   ],
   "source": [
    "while len(cards_links) < 100:\n",
    "\n",
    "    # keyboard.press_and_release('down arrow')\n",
    "    driver.execute_script(\"window.scrollTo(0, document.body.scrollHeight);\")\n",
    "    time.sleep(.7)\n",
    "    try:\n",
    "        show_more = WebDriverWait(driver, 1).until(EC.element_to_be_clickable((By.XPATH, \"//*[contains(text(), 'Show more results')]\")))\n",
    "        show_more.click()\n",
    "    except:\n",
    "        continue\n",
    "    cards_links = driver.find_elements(By.CLASS_NAME, \"org-people-profile-card__profile-info\")\n",
    "    print(len(cards_links))"
   ]
  },
  {
   "cell_type": "code",
   "execution_count": 24,
   "id": "b30b799c",
   "metadata": {},
   "outputs": [
    {
     "name": "stdout",
     "output_type": "stream",
     "text": [
      "lengh is: 0\n"
     ]
    }
   ],
   "source": [
    "print(\"lengh is: \"+str(len(cards_links)))\n",
    "for card in cards_links: print(card.text+\"\\n----------------------------------\\n\")"
   ]
  },
  {
   "cell_type": "code",
   "execution_count": null,
   "id": "b1c2cf9b",
   "metadata": {},
   "outputs": [],
   "source": [
    "\n",
    "count = 0\n",
    "items_urls = []\n",
    "testing = []\n",
    "while len(items_urls) < 100:\n",
    "\n",
    "    # keyboard.press_and_release('down arrow')\n",
    "    driver.execute_script(\"window.scrollTo(0, document.body.scrollHeight/.1);\")\n",
    "    time.sleep(.7)\n",
    "    cards_links = driver.find_elements(By.CLASS_NAME, \"org-people-profile-card__profile-info\")\n",
    "    if cards_links == testing:\n",
    "        break\n",
    "    for card in cards_links:\n",
    "        try:\n",
    "            item_url = card.get_attribute('href')\n",
    "            items_urls.append(item_url)\n",
    "        except:\n",
    "            continue\n",
    "    testing = driver.find_elements(By.CLASS_NAME, \"org-people-profile-card__profile-info\")\n",
    "    cards_links = []\n",
    "    print(\"lengh is: \"+str(len(testing)))\n",
    "    for card in testing: print(card.text+\"\\n----------------------------------\\n\")\n"
   ]
  },
  {
   "cell_type": "code",
   "execution_count": null,
   "id": "7dc9c58a",
   "metadata": {},
   "outputs": [],
   "source": [
    "while len(items_urls) < 100:\n",
    "\n",
    "    # keyboard.press_and_release('down arrow')\n",
    "    driver.execute_script(\"window.scrollTo(0, document.body.scrollHeight/.1);\")\n",
    "    time.sleep(.7)\n",
    "    cards_links = driver.find_elements(By.CLASS_NAME, \"org-people-profile-card__profile-info\")\n",
    "    if cards_links == testing:\n",
    "        count += 1\n",
    "    if count == 10:\n",
    "        break\n",
    "    for card in cards_links:\n",
    "        try:\n",
    "            item_url = card.get_attribute('href')\n",
    "            items_urls.append(item_url)\n",
    "        except:\n",
    "            continue\n",
    "    testing = driver.find_elements_by_xpath(\n",
    "        \"//section[@class='annonces ng-star-inserted']//a\")\n",
    "    cards_links = []\n",
    "    print(len(items_urls))"
   ]
  },
  {
   "cell_type": "code",
   "execution_count": null,
   "id": "22652520",
   "metadata": {},
   "outputs": [],
   "source": []
  }
 ],
 "metadata": {
  "kernelspec": {
   "display_name": "Python 3 (ipykernel)",
   "language": "python",
   "name": "python3"
  },
  "language_info": {
   "codemirror_mode": {
    "name": "ipython",
    "version": 3
   },
   "file_extension": ".py",
   "mimetype": "text/x-python",
   "name": "python",
   "nbconvert_exporter": "python",
   "pygments_lexer": "ipython3",
   "version": "3.9.7"
  }
 },
 "nbformat": 4,
 "nbformat_minor": 5
}
