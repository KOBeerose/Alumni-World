{
 "cells": [
  {
   "cell_type": "code",
   "execution_count": 53,
   "id": "1306a832",
   "metadata": {},
   "outputs": [],
   "source": [
    "# importing all the necessary libaries\n",
    "import os\n",
    "import csv\n",
    "import time\n",
    "import string\n",
    "import keyboard\n",
    "import pandas as pd\n",
    "from re import search\n",
    "from bs4 import BeautifulSoup\n",
    "\n",
    "from selenium import webdriver\n",
    "from selenium.webdriver.common.by import By\n",
    "from selenium.webdriver.common.keys import Keys\n",
    "from selenium.webdriver.chrome.service import Service\n",
    "from selenium.webdriver.chrome.options import Options\n",
    "from selenium.webdriver.support.ui import WebDriverWait\n",
    "from webdriver_manager.chrome import ChromeDriverManager\n",
    "from selenium.webdriver.support import expected_conditions as EC\n",
    "from selenium.webdriver.common.action_chains import ActionChains"
   ]
  },
  {
   "cell_type": "code",
   "execution_count": 54,
   "id": "83598c68",
   "metadata": {},
   "outputs": [],
   "source": [
    "# define your school name right here:\n",
    "\n",
    "School_name = \"Massachusetts Institute of Technology\""
   ]
  },
  {
   "cell_type": "code",
   "execution_count": 55,
   "id": "8146a21c",
   "metadata": {
    "scrolled": false
   },
   "outputs": [
    {
     "name": "stderr",
     "output_type": "stream",
     "text": [
      "\n",
      "\n",
      "====== WebDriver manager ======\n",
      "Current google-chrome version is 101.0.4951\n",
      "Get LATEST chromedriver version for 101.0.4951 google-chrome\n",
      "Trying to download new driver from https://chromedriver.storage.googleapis.com/101.0.4951.41/chromedriver_win32.zip\n",
      "Driver has been saved in cache [C:\\Users\\tahae\\.wdm\\drivers\\chromedriver\\win32\\101.0.4951.41]\n"
     ]
    }
   ],
   "source": [
    "# defining the webdriver and config btw this code will be almost the same in all of your selenium scripts\n",
    "options = Options()\n",
    "\n",
    "# !!! blocking browser notifications !!!\n",
    "prefs = {\"profile.default_content_setting_values.notifications\": 2}\n",
    "options.add_experimental_option(\"prefs\", prefs)\n",
    "\n",
    "# starting in maximized window\n",
    "options.add_argument(\"start-maximized\")\n",
    "options.add_argument(\"--disable-default-apps\")\n",
    "driver = webdriver.Chrome(service=Service(ChromeDriverManager().install()), options=options)"
   ]
  },
  {
   "cell_type": "code",
   "execution_count": 56,
   "id": "e5137bf1",
   "metadata": {},
   "outputs": [],
   "source": [
    "driver.get(\"https://www.linkedin.com/login/\")"
   ]
  },
  {
   "cell_type": "code",
   "execution_count": 57,
   "id": "6e3a93bc",
   "metadata": {},
   "outputs": [],
   "source": [
    "username = os.environ.get(\"ln_us\")\n",
    "password = os.environ.get(\"ln_ps\")"
   ]
  },
  {
   "cell_type": "code",
   "execution_count": null,
   "id": "1518a7f3",
   "metadata": {},
   "outputs": [],
   "source": [
    "username_field = driver.find_element(By.ID,\"username\")\n",
    "username_field.send_keys(username)\n",
    "\n",
    "password_field = driver.find_element(By.ID,\"password\")\n",
    "password_field.send_keys(password)\n",
    "\n",
    "password_field.submit()"
   ]
  },
  {
   "cell_type": "code",
   "execution_count": null,
   "id": "542f0747",
   "metadata": {},
   "outputs": [],
   "source": [
    "'''search_bar = driver.find_element(By.CLASS_NAME,\"search-global-typeahead__input\")\n",
    "search_bar.send_keys(School_name)\n",
    "time.sleep(1)\n",
    "keyboard.press_and_release('enter')'''"
   ]
  },
  {
   "cell_type": "code",
   "execution_count": null,
   "id": "6b576b24",
   "metadata": {},
   "outputs": [],
   "source": [
    "driver.get(\"https://www.linkedin.com/search/results/schools/?keywords=\"+School_name)\n",
    "time.sleep(3)"
   ]
  },
  {
   "cell_type": "code",
   "execution_count": null,
   "id": "af565a38",
   "metadata": {},
   "outputs": [],
   "source": [
    "#first_result = WebDriverWait(driver, 2).until(EC.element_to_be_clickable((By.XPATH, \"\"\"//*[@id=\"main\"]/div/div/div[1]/ul/li/div/div/div[2]/div/div[1]/div/span/span/a\"\"\")))\n",
    "#first_result.click()\n",
    "school_url = driver.find_element(By.XPATH, \"\"\"//*[@id=\"main\"]/div/div/div[1]/ul/li/div/div/div[2]/div/div[1]/div/span/span/a\"\"\").get_attribute('href')\n",
    "driver.get(school_url)"
   ]
  },
  {
   "cell_type": "code",
   "execution_count": null,
   "id": "e21ef569",
   "metadata": {},
   "outputs": [],
   "source": [
    "driver.get(driver.current_url+\"people\")\n",
    "time.sleep(3)"
   ]
  },
  {
   "cell_type": "code",
   "execution_count": null,
   "id": "022bb07d",
   "metadata": {
    "scrolled": false
   },
   "outputs": [],
   "source": [
    "count = 0\n",
    "items_urls = []\n",
    "testing = []\n",
    "cards_links = driver.find_elements(By.CLASS_NAME, \"org-people-profile-card__profile-info\")\n",
    "print(len(cards_links))\n",
    "for card in cards_links: print(card.text+\"\\n----------------------------------\\n\")\n"
   ]
  },
  {
   "cell_type": "code",
   "execution_count": null,
   "id": "b30b799c",
   "metadata": {
    "scrolled": true
   },
   "outputs": [],
   "source": [
    "print(\"lengh is: \"+str(len(cards_links)))\n",
    "for card in cards_links: print(card.text+\"\\n----------------------------------\\n\")"
   ]
  },
  {
   "cell_type": "code",
   "execution_count": null,
   "id": "81cc95eb",
   "metadata": {},
   "outputs": [],
   "source": [
    "count = 0\n",
    "items_urls = []\n",
    "testing = []\n",
    "\n",
    "cards = driver.find_elements(By.XPATH, \"//body[@class='render-mode-BIGPIPE nav-v2 ember-application icons-loaded boot-complete']/div[@class='application-outlet']/div[@class='authentication-outlet']/div[@class='organization-outlet relative']/div[2]/div[1]/div[2]/main[1]/div[2]/div[1]/div[2]/div[1]/div[1]/ul[1]/li/section[1]/div[1]/div[1]/div[1]/a\")\n",
    "\n",
    "for card in cards:\n",
    "    print(card.get_attribute('href'))\n"
   ]
  },
  {
   "cell_type": "code",
   "execution_count": null,
   "id": "b1c2cf9b",
   "metadata": {},
   "outputs": [],
   "source": [
    "\n",
    "count = 0\n",
    "items_urls = []\n",
    "testing = []\n",
    "while len(items_urls) < 1000:\n",
    "\n",
    "    # keyboard.press_and_release('down arrow')\n",
    "    driver.execute_script(\"window.scrollTo(0, document.body.scrollHeight/.1);\")\n",
    "    time.sleep(.7)\n",
    "    cards_links = driver.find_elements(By.XPATH, \"//body[@class='render-mode-BIGPIPE nav-v2 ember-application icons-loaded boot-complete']/div[@class='application-outlet']/div[@class='authentication-outlet']/div[@class='organization-outlet relative']/div[2]/div[1]/div[2]/main[1]/div[2]/div[1]/div[2]/div[1]/div[1]/ul[1]/li/section[1]/div[1]/div[1]/div[1]/a\")\n",
    "    if cards_links == testing:\n",
    "        break\n",
    "    for card in cards_links:\n",
    "        try:\n",
    "            items_urls.append(card.get_attribute('href'))\n",
    "        except:\n",
    "            continue\n",
    "    testing = driver.find_elements(By.XPATH, \"//body[@class='render-mode-BIGPIPE nav-v2 ember-application icons-loaded boot-complete']/div[@class='application-outlet']/div[@class='authentication-outlet']/div[@class='organization-outlet relative']/div[2]/div[1]/div[2]/main[1]/div[2]/div[1]/div[2]/div[1]/div[1]/ul[1]/li/section[1]/div[1]/div[1]/div[1]/a\")\n",
    "    cards_links = []\n",
    "print(items_urls)"
   ]
  },
  {
   "cell_type": "code",
   "execution_count": null,
   "id": "225ca813",
   "metadata": {},
   "outputs": [],
   "source": [
    "profilesID = items_urls\n",
    "names = []\n",
    "companies = []\n",
    "locations = []\n",
    "shit = []\n",
    "\n",
    "for profileID in profilesID:\n",
    "    fulllink =  profileID\n",
    "    driver.get(fulllink)\n",
    "    time.sleep(1)\n",
    "    \n",
    "    name = driver.find_element(By.CLASS_NAME, \"text-heading-xlarge\").text\n",
    "    names.append(name)\n",
    "                                                                                              \n",
    "    location = driver.find_element(By.XPATH, \"//span[@class='text-body-small inline t-black--light break-words']\").text\n",
    "    locations.append(location)\n",
    "    \n",
    "    company = driver.find_element(By.XPATH, \"//h2[@class='pv-text-details__right-panel-item-text hoverable-link-text break-words text-body-small inline']\").text\n",
    "    companies.append(company)\n",
    "    "
   ]
  },
  {
   "cell_type": "code",
   "execution_count": null,
   "id": "7b234fe8",
   "metadata": {},
   "outputs": [],
   "source": [
    "ids = [i for i in range(len(items_urls))]\n",
    "df = pd.DataFrame(list(zip(ids, companies, locations)), columns =['id', 'companies', 'locations']) "
   ]
  },
  {
   "cell_type": "code",
   "execution_count": null,
   "id": "74072e09",
   "metadata": {
    "scrolled": false
   },
   "outputs": [],
   "source": [
    "df"
   ]
  },
  {
   "cell_type": "code",
   "execution_count": null,
   "id": "8b8537a2",
   "metadata": {},
   "outputs": [],
   "source": [
    "df.to_csv(\"inpt.csv\")"
   ]
  },
  {
   "cell_type": "code",
   "execution_count": null,
   "id": "13d2d8da",
   "metadata": {},
   "outputs": [],
   "source": [
    "\"\"\"profilesID = items_urls\n",
    "names = []\n",
    "companies = []\n",
    "locs = []\n",
    "\n",
    "for profileID in profilesID:\n",
    "    fulllink =  profileID\n",
    "    driver.get(fulllink)\n",
    "    time.sleep(8)\n",
    "    src = driver.page_source\n",
    "    soup = BeautifulSoup(src, 'lxml')\n",
    "\n",
    "    #scraping locations\n",
    "    name_div = soup.find('h1', {'class': 'text-heading-xlarge'}).text\n",
    "    print(name_div)\n",
    "    loc = []\n",
    "    for i in range(len(name_div)):\n",
    "        span = name_div[i].find_all('span')\n",
    "        loc.append(span[1].get_text().strip())\n",
    "    locs.append(loc)\n",
    "\n",
    "    #scraping companies\n",
    "    name_div = soup.find_all('p', {'class': 'pv-entity__secondary-title t-14 t-black t-normal'})\n",
    "    company = []\n",
    "    for i in range(len(name_div)):\n",
    "        company.append(name_div[i].get_text().strip())\n",
    "    companies.append(company)\n",
    "    print(companies)\"\"\""
   ]
  },
  {
   "cell_type": "code",
   "execution_count": null,
   "id": "7dc9c58a",
   "metadata": {},
   "outputs": [],
   "source": [
    "\"\"\"while len(items_urls) < 100:\n",
    "\n",
    "    # keyboard.press_and_release('down arrow')\n",
    "    driver.execute_script(\"window.scrollTo(0, document.body.scrollHeight/.1);\")\n",
    "    time.sleep(.7)\n",
    "    cards_links = driver.find_elements(By.CLASS_NAME, \"org-people-profile-card__profile-info\")\n",
    "    if cards_links == testing:\n",
    "        count += 1\n",
    "    if count == 10:\n",
    "        break\n",
    "    for card in cards_links:\n",
    "        try:\n",
    "            item_url = card.get_attribute('href')\n",
    "            items_urls.append(item_url)\n",
    "        except:\n",
    "            continue\n",
    "    testing = driver.find_elements_by_xpath(\n",
    "        \"//section[@class='annonces ng-star-inserted']//a\")\n",
    "    cards_links = []\n",
    "    print(len(items_urls))\"\"\""
   ]
  },
  {
   "cell_type": "code",
   "execution_count": null,
   "id": "22652520",
   "metadata": {},
   "outputs": [],
   "source": []
  }
 ],
 "metadata": {
  "kernelspec": {
   "display_name": "Python 3 (ipykernel)",
   "language": "python",
   "name": "python3"
  },
  "language_info": {
   "codemirror_mode": {
    "name": "ipython",
    "version": 3
   },
   "file_extension": ".py",
   "mimetype": "text/x-python",
   "name": "python",
   "nbconvert_exporter": "python",
   "pygments_lexer": "ipython3",
   "version": "3.9.7"
  }
 },
 "nbformat": 4,
 "nbformat_minor": 5
}
