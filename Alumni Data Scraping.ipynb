{
 "cells": [
  {
   "cell_type": "code",
   "execution_count": 42,
   "id": "1306a832",
   "metadata": {},
   "outputs": [],
   "source": [
    "# importing all the necessary libaries\n",
    "import os\n",
    "import csv\n",
    "import time\n",
    "import string\n",
    "import keyboard\n",
    "from re import search\n",
    "from bs4 import BeautifulSoup\n",
    "\n",
    "from selenium import webdriver\n",
    "from selenium.webdriver.common.by import By\n",
    "from selenium.webdriver.common.keys import Keys\n",
    "from selenium.webdriver.chrome.service import Service\n",
    "from selenium.webdriver.chrome.options import Options\n",
    "from selenium.webdriver.support.ui import WebDriverWait\n",
    "from webdriver_manager.chrome import ChromeDriverManager\n",
    "from selenium.webdriver.support import expected_conditions as EC"
   ]
  },
  {
   "cell_type": "code",
   "execution_count": 23,
   "id": "83598c68",
   "metadata": {},
   "outputs": [],
   "source": [
    "# define your school name right here:\n",
    "\n",
    "School_name = \"Institut National des Postes et Télécommunications\""
   ]
  },
  {
   "cell_type": "code",
   "execution_count": 24,
   "id": "8146a21c",
   "metadata": {
    "scrolled": false
   },
   "outputs": [
    {
     "name": "stderr",
     "output_type": "stream",
     "text": [
      "\n",
      "\n",
      "====== WebDriver manager ======\n",
      "Current google-chrome version is 100.0.4896\n",
      "Get LATEST chromedriver version for 100.0.4896 google-chrome\n",
      "Driver [C:\\Users\\tahae\\.wdm\\drivers\\chromedriver\\win32\\100.0.4896.60\\chromedriver.exe] found in cache\n"
     ]
    }
   ],
   "source": [
    "# defining the webdriver and config btw this code will be almost the same in all of your selenium scripts\n",
    "options = Options()\n",
    "\n",
    "# !!! blocking browser notifications !!!\n",
    "prefs = {\"profile.default_content_setting_values.notifications\": 2}\n",
    "options.add_experimental_option(\"prefs\", prefs)\n",
    "\n",
    "# starting in maximized window\n",
    "options.add_argument(\"start-maximized\")\n",
    "options.add_argument(\"--disable-default-apps\")\n",
    "driver = webdriver.Chrome(service=Service(ChromeDriverManager().install()), options=options)"
   ]
  },
  {
   "cell_type": "code",
   "execution_count": 25,
   "id": "e5137bf1",
   "metadata": {},
   "outputs": [],
   "source": [
    "driver.get(\"https://www.linkedin.com/login/\")"
   ]
  },
  {
   "cell_type": "code",
   "execution_count": 26,
   "id": "6e3a93bc",
   "metadata": {},
   "outputs": [],
   "source": [
    "username = os.environ.get(\"ln_us\")\n",
    "password = os.environ.get(\"ln_ps\")"
   ]
  },
  {
   "cell_type": "code",
   "execution_count": 27,
   "id": "1518a7f3",
   "metadata": {},
   "outputs": [],
   "source": [
    "username_field = driver.find_element(By.ID,\"username\")\n",
    "username_field.send_keys(username)\n",
    "\n",
    "password_field = driver.find_element(By.ID,\"password\")\n",
    "password_field.send_keys(password)\n",
    "\n",
    "password_field.submit()"
   ]
  },
  {
   "cell_type": "code",
   "execution_count": 28,
   "id": "542f0747",
   "metadata": {},
   "outputs": [
    {
     "data": {
      "text/plain": [
       "'search_bar = driver.find_element(By.CLASS_NAME,\"search-global-typeahead__input\")\\nsearch_bar.send_keys(School_name)\\ntime.sleep(1)\\nkeyboard.press_and_release(\\'enter\\')'"
      ]
     },
     "execution_count": 28,
     "metadata": {},
     "output_type": "execute_result"
    }
   ],
   "source": [
    "'''search_bar = driver.find_element(By.CLASS_NAME,\"search-global-typeahead__input\")\n",
    "search_bar.send_keys(School_name)\n",
    "time.sleep(1)\n",
    "keyboard.press_and_release('enter')'''"
   ]
  },
  {
   "cell_type": "code",
   "execution_count": 29,
   "id": "6b576b24",
   "metadata": {},
   "outputs": [],
   "source": [
    "driver.get(\"https://www.linkedin.com/search/results/schools/?keywords=\"+School_name)\n",
    "time.sleep(3)"
   ]
  },
  {
   "cell_type": "code",
   "execution_count": 30,
   "id": "af565a38",
   "metadata": {},
   "outputs": [],
   "source": [
    "first_result = WebDriverWait(driver, 2).until(EC.element_to_be_clickable((By.XPATH, \"\"\"//*[@id=\"main\"]/div/div/div[1]/ul/li/div/div/div[2]/div/div[1]/div/span/span/a\"\"\")))\n",
    "first_result.click()"
   ]
  },
  {
   "cell_type": "code",
   "execution_count": 34,
   "id": "e21ef569",
   "metadata": {},
   "outputs": [],
   "source": [
    "driver.get(driver.current_url+\"people\")"
   ]
  },
  {
   "cell_type": "code",
   "execution_count": 35,
   "id": "022bb07d",
   "metadata": {
    "scrolled": false
   },
   "outputs": [
    {
     "name": "stdout",
     "output_type": "stream",
     "text": [
      "12\n",
      "Wiaam Sahraoui\n",
      "2nd degree connection\n",
      "· 2nd\n",
      "Data Engineer | Trading Process Analyst at Société Générale - Africa Technologies & Services\n",
      "’21 Data engineering\n",
      "1 shared connection\n",
      "----------------------------------\n",
      "\n",
      "Abdelhamid AABIROUCH\n",
      "2nd degree connection\n",
      "· 2nd\n",
      "Data Scientist | Machine Learning/ Deep Learning Engineer | FreeLancer\n",
      "’20 management\n",
      "1 shared connection\n",
      "----------------------------------\n",
      "\n",
      "zait chaimae\n",
      "2nd degree connection\n",
      "· 2nd\n",
      "FullSatck Engineer at Flow digital Studio\n",
      "’20 la telecommunications\n",
      "1 shared connection\n",
      "----------------------------------\n",
      "\n",
      "Oumaima Outamldou\n",
      "2nd degree connection\n",
      "· 2nd\n",
      "Consultante sécurité SI - PCI DSS\n",
      "’21 Cybersecurity\n",
      "1 shared connection\n",
      "----------------------------------\n",
      "\n",
      "Karima EL-ASEKARY\n",
      "3rd degree connection\n",
      "· 3rd\n",
      "Software Engineer - Digital Factory at OCP SA\n",
      "----------------------------------\n",
      "\n",
      "Ilyass Khaouja\n",
      "3rd degree connection\n",
      "· 3rd\n",
      "Manager at PwC - MBA graduate - Fulbright Scholar\n",
      "----------------------------------\n",
      "\n",
      "Ahmed Rahouti\n",
      "3rd degree connection\n",
      "· 3rd\n",
      "Cybersecurity Consultant at Deloitte\n",
      "’21 Computer and Information Systems Security/Information Assurance\n",
      "----------------------------------\n",
      "\n",
      "ahmed touil\n",
      "3rd degree connection\n",
      "· 3rd\n",
      "IT manager | Digital transformation | Cyber Security | Technology management | MBA\n",
      "----------------------------------\n",
      "\n",
      "Youssef KHANTACHE\n",
      "3rd degree connection\n",
      "· 3rd\n",
      "Consultant Senior at Orange\n",
      "’12 Telecommunications Engineering\n",
      "----------------------------------\n",
      "\n",
      "Abdelaziz OUAADDI\n",
      "3rd degree connection\n",
      "· 3rd\n",
      "Software Engineer at Capgemini\n",
      "’17\n",
      "----------------------------------\n",
      "\n",
      "wahib ouahib\n",
      "3rd degree connection\n",
      "· 3rd\n",
      "Software Engineer at Boston Consulting Group (BCG)\n",
      "Technologies de l'information\n",
      "----------------------------------\n",
      "\n",
      "LinkedIn Member\n",
      "Software Engineer at Mobinets\n",
      "----------------------------------\n",
      "\n"
     ]
    }
   ],
   "source": [
    "count = 0\n",
    "items_urls = []\n",
    "testing = []\n",
    "cards_links = driver.find_elements(By.CLASS_NAME, \"org-people-profile-card__profile-info\")\n",
    "print(len(cards_links))\n",
    "for card in cards_links: print(card.text+\"\\n----------------------------------\\n\")\n"
   ]
  },
  {
   "cell_type": "code",
   "execution_count": 36,
   "id": "b30b799c",
   "metadata": {
    "scrolled": true
   },
   "outputs": [
    {
     "name": "stdout",
     "output_type": "stream",
     "text": [
      "lengh is: 12\n",
      "Wiaam Sahraoui\n",
      "2nd degree connection\n",
      "· 2nd\n",
      "Data Engineer | Trading Process Analyst at Société Générale - Africa Technologies & Services\n",
      "’21 Data engineering\n",
      "1 shared connection\n",
      "----------------------------------\n",
      "\n",
      "Abdelhamid AABIROUCH\n",
      "2nd degree connection\n",
      "· 2nd\n",
      "Data Scientist | Machine Learning/ Deep Learning Engineer | FreeLancer\n",
      "’20 management\n",
      "1 shared connection\n",
      "----------------------------------\n",
      "\n",
      "zait chaimae\n",
      "2nd degree connection\n",
      "· 2nd\n",
      "FullSatck Engineer at Flow digital Studio\n",
      "’20 la telecommunications\n",
      "1 shared connection\n",
      "----------------------------------\n",
      "\n",
      "Oumaima Outamldou\n",
      "2nd degree connection\n",
      "· 2nd\n",
      "Consultante sécurité SI - PCI DSS\n",
      "’21 Cybersecurity\n",
      "1 shared connection\n",
      "----------------------------------\n",
      "\n",
      "Karima EL-ASEKARY\n",
      "3rd degree connection\n",
      "· 3rd\n",
      "Software Engineer - Digital Factory at OCP SA\n",
      "----------------------------------\n",
      "\n",
      "Ilyass Khaouja\n",
      "3rd degree connection\n",
      "· 3rd\n",
      "Manager at PwC - MBA graduate - Fulbright Scholar\n",
      "----------------------------------\n",
      "\n",
      "Ahmed Rahouti\n",
      "3rd degree connection\n",
      "· 3rd\n",
      "Cybersecurity Consultant at Deloitte\n",
      "’21 Computer and Information Systems Security/Information Assurance\n",
      "----------------------------------\n",
      "\n",
      "ahmed touil\n",
      "3rd degree connection\n",
      "· 3rd\n",
      "IT manager | Digital transformation | Cyber Security | Technology management | MBA\n",
      "----------------------------------\n",
      "\n",
      "Youssef KHANTACHE\n",
      "3rd degree connection\n",
      "· 3rd\n",
      "Consultant Senior at Orange\n",
      "’12 Telecommunications Engineering\n",
      "----------------------------------\n",
      "\n",
      "Abdelaziz OUAADDI\n",
      "3rd degree connection\n",
      "· 3rd\n",
      "Software Engineer at Capgemini\n",
      "’17\n",
      "----------------------------------\n",
      "\n",
      "wahib ouahib\n",
      "3rd degree connection\n",
      "· 3rd\n",
      "Software Engineer at Boston Consulting Group (BCG)\n",
      "Technologies de l'information\n",
      "----------------------------------\n",
      "\n",
      "LinkedIn Member\n",
      "Software Engineer at Mobinets\n",
      "----------------------------------\n",
      "\n"
     ]
    }
   ],
   "source": [
    "print(\"lengh is: \"+str(len(cards_links)))\n",
    "for card in cards_links: print(card.text+\"\\n----------------------------------\\n\")"
   ]
  },
  {
   "cell_type": "code",
   "execution_count": 37,
   "id": "81cc95eb",
   "metadata": {},
   "outputs": [
    {
     "name": "stdout",
     "output_type": "stream",
     "text": [
      "https://www.linkedin.com/in/wiaam-sahraoui-00a7bb1a9/\n",
      "https://www.linkedin.com/in/abdelhamid-aabirouch-235528185/\n",
      "https://www.linkedin.com/in/zait-chaimae-27b640158/\n",
      "https://www.linkedin.com/in/oumaima-outamldou-686484180/\n",
      "https://www.linkedin.com/in/karima-el-asekary-a6922b86/\n",
      "https://www.linkedin.com/in/ikhaouja/\n",
      "https://www.linkedin.com/in/ahmedrht/\n",
      "https://www.linkedin.com/in/ahmed-touil-4600432b/\n",
      "https://www.linkedin.com/in/youssefkhantache/\n",
      "https://www.linkedin.com/in/abdelaziz-ouaaddi/\n",
      "https://www.linkedin.com/in/wahib-ouahib-a9b937135/\n"
     ]
    }
   ],
   "source": [
    "count = 0\n",
    "items_urls = []\n",
    "testing = []\n",
    "\n",
    "cards = driver.find_elements(By.XPATH, \"//body[@class='render-mode-BIGPIPE nav-v2 ember-application icons-loaded boot-complete']/div[@class='application-outlet']/div[@class='authentication-outlet']/div[@class='organization-outlet relative']/div[2]/div[1]/div[2]/main[1]/div[2]/div[1]/div[2]/div[1]/div[1]/ul[1]/li/section[1]/div[1]/div[1]/div[1]/a\")\n",
    "\n",
    "for card in cards:\n",
    "    print(card.get_attribute('href'))\n"
   ]
  },
  {
   "cell_type": "code",
   "execution_count": 39,
   "id": "b1c2cf9b",
   "metadata": {},
   "outputs": [
    {
     "name": "stdout",
     "output_type": "stream",
     "text": [
      "['https://www.linkedin.com/in/wiaam-sahraoui-00a7bb1a9/', 'https://www.linkedin.com/in/abdelhamid-aabirouch-235528185/', 'https://www.linkedin.com/in/zait-chaimae-27b640158/', 'https://www.linkedin.com/in/oumaima-outamldou-686484180/', 'https://www.linkedin.com/in/karima-el-asekary-a6922b86/', 'https://www.linkedin.com/in/ikhaouja/', 'https://www.linkedin.com/in/ahmedrht/', 'https://www.linkedin.com/in/ahmed-touil-4600432b/', 'https://www.linkedin.com/in/youssefkhantache/', 'https://www.linkedin.com/in/abdelaziz-ouaaddi/', 'https://www.linkedin.com/in/wahib-ouahib-a9b937135/', 'https://www.linkedin.com/in/yassine-benja%C3%A2-testlead-testautomation/', 'https://www.linkedin.com/in/malak-tahri-706aab10a/', 'https://www.linkedin.com/in/abdellatif-mezzine-b58b5a181/', 'https://www.linkedin.com/in/otman-driouch-95a50547/', 'https://www.linkedin.com/in/mehdi-boumzebra-369bbb146/', 'https://www.linkedin.com/in/khaoula-belhaj-soulami-a0810985/', 'https://www.linkedin.com/in/hajji-abderrahmane/', 'https://www.linkedin.com/in/hajar-bendaoud-91b0051b5/', 'https://www.linkedin.com/in/mohamed-jabbar-925a42125/', 'https://www.linkedin.com/in/alpha-oumar-sow-25727111b/', 'https://www.linkedin.com/in/ahlam-alami-ab838521/', 'https://www.linkedin.com/in/ismail-zahid-8b18b7a9/', 'https://www.linkedin.com/in/khadija-a-029b1791/', 'https://www.linkedin.com/in/hamza-el-bairouni/', 'https://www.linkedin.com/in/nouhaila-nedrhali-ba0135160/', 'https://www.linkedin.com/in/mbrazi/', 'https://www.linkedin.com/in/mohamed-amine-ajinou/', 'https://www.linkedin.com/in/anass-m-51276ab0/', 'https://www.linkedin.com/in/ayoub-abbasi-3a1730193/', 'https://www.linkedin.com/in/moncef-haiki-a7430352/', 'https://www.linkedin.com/in/ilias-elmoustaoui/', 'https://www.linkedin.com/in/ismail-karim/', 'https://www.linkedin.com/in/jarmoune-mohamed-85a82b194/', 'https://www.linkedin.com/in/salma-korchi-71b4a25/', 'https://www.linkedin.com/in/salah-eddine-halkhoums/', 'https://www.linkedin.com/in/meryem-b-219169165/', 'https://www.linkedin.com/in/rachid-taleb-b2657626/', 'https://www.linkedin.com/in/maha-bouhssine-raihanna-b531a729/', 'https://www.linkedin.com/in/nizar-hakim-chaairi-860b11109/', 'https://www.linkedin.com/in/ali-sitaleb-a1912a111/', 'https://www.linkedin.com/in/aminetabia/', 'https://www.linkedin.com/in/omar-belhrache-b4b523b2/', 'https://www.linkedin.com/in/laaroussianas/', 'https://www.linkedin.com/in/amal-lams%C3%A2di-0820b54b/', 'https://www.linkedin.com/in/boutaina-jniyah-b4b8a963/', 'https://www.linkedin.com/in/adel-benyahya-0306a2/', 'https://www.linkedin.com/in/fatima-sefoud-05679943/', 'https://www.linkedin.com/in/amine-belahcen-50b67815/', 'https://www.linkedin.com/in/widad-filahi-66400561/', 'https://www.linkedin.com/in/saad-eddine-bou-sokri-381a9818/', 'https://www.linkedin.com/in/ayman-yamine-ab05a019b/', 'https://www.linkedin.com/in/hamdouneimane/', 'https://www.linkedin.com/in/hafed-naoufal/', 'https://www.linkedin.com/in/nabil-bouras-33542a176/']\n"
     ]
    }
   ],
   "source": [
    "\n",
    "count = 0\n",
    "items_urls = []\n",
    "testing = []\n",
    "while len(items_urls) < 12:\n",
    "\n",
    "    # keyboard.press_and_release('down arrow')\n",
    "    driver.execute_script(\"window.scrollTo(0, document.body.scrollHeight/.1);\")\n",
    "    time.sleep(.7)\n",
    "    cards_links = driver.find_elements(By.XPATH, \"//body[@class='render-mode-BIGPIPE nav-v2 ember-application icons-loaded boot-complete']/div[@class='application-outlet']/div[@class='authentication-outlet']/div[@class='organization-outlet relative']/div[2]/div[1]/div[2]/main[1]/div[2]/div[1]/div[2]/div[1]/div[1]/ul[1]/li/section[1]/div[1]/div[1]/div[1]/a\")\n",
    "    if cards_links == testing:\n",
    "        break\n",
    "    for card in cards_links:\n",
    "        try:\n",
    "            items_urls.append(card.get_attribute('href'))\n",
    "        except:\n",
    "            continue\n",
    "    testing = driver.find_elements(By.XPATH, \"//body[@class='render-mode-BIGPIPE nav-v2 ember-application icons-loaded boot-complete']/div[@class='application-outlet']/div[@class='authentication-outlet']/div[@class='organization-outlet relative']/div[2]/div[1]/div[2]/main[1]/div[2]/div[1]/div[2]/div[1]/div[1]/ul[1]/li/section[1]/div[1]/div[1]/div[1]/a\")\n",
    "    cards_links = []\n",
    "print(items_urls)"
   ]
  },
  {
   "cell_type": "code",
   "execution_count": 47,
   "id": "17122682",
   "metadata": {},
   "outputs": [
    {
     "ename": "TimeoutException",
     "evalue": "Message: timeout: Timed out receiving message from renderer: 299.119\n  (Session info: chrome=100.0.4896.127)\nStacktrace:\nBacktrace:\n\tOrdinal0 [0x00F47413+2389011]\n\tOrdinal0 [0x00ED9F61+1941345]\n\tOrdinal0 [0x00DCC658+837208]\n\tOrdinal0 [0x00DBDB80+777088]\n\tOrdinal0 [0x00DBC995+772501]\n\tOrdinal0 [0x00DBCF98+774040]\n\tOrdinal0 [0x00DC796F+817519]\n\tOrdinal0 [0x00DD243B+861243]\n\tOrdinal0 [0x00DD4E10+871952]\n\tOrdinal0 [0x00DBD266+774758]\n\tOrdinal0 [0x00DD2289+860809]\n\tOrdinal0 [0x00E2464D+1197645]\n\tOrdinal0 [0x00E13F66+1130342]\n\tOrdinal0 [0x00DEE546+976198]\n\tOrdinal0 [0x00DEF456+980054]\n\tGetHandleVerifier [0x010F9632+1727522]\n\tGetHandleVerifier [0x011ABA4D+2457661]\n\tGetHandleVerifier [0x00FDEB81+569713]\n\tGetHandleVerifier [0x00FDDD76+566118]\n\tOrdinal0 [0x00EE0B2B+1968939]\n\tOrdinal0 [0x00EE5988+1989000]\n\tOrdinal0 [0x00EE5A75+1989237]\n\tOrdinal0 [0x00EEECB1+2026673]\n\tBaseThreadInitThunk [0x76006739+25]\n\tRtlGetFullPathName_UEx [0x77E28E7F+1215]\n\tRtlGetFullPathName_UEx [0x77E28E4D+1165]\n",
     "output_type": "error",
     "traceback": [
      "\u001b[1;31m---------------------------------------------------------------------------\u001b[0m",
      "\u001b[1;31mTimeoutException\u001b[0m                          Traceback (most recent call last)",
      "\u001b[1;32m~\\AppData\\Local\\Temp/ipykernel_19192/1875299246.py\u001b[0m in \u001b[0;36m<module>\u001b[1;34m\u001b[0m\n\u001b[0;32m      6\u001b[0m \u001b[1;32mfor\u001b[0m \u001b[0mprofileID\u001b[0m \u001b[1;32min\u001b[0m \u001b[0mprofilesID\u001b[0m\u001b[1;33m:\u001b[0m\u001b[1;33m\u001b[0m\u001b[1;33m\u001b[0m\u001b[0m\n\u001b[0;32m      7\u001b[0m     \u001b[0mfulllink\u001b[0m \u001b[1;33m=\u001b[0m  \u001b[0mprofileID\u001b[0m\u001b[1;33m\u001b[0m\u001b[1;33m\u001b[0m\u001b[0m\n\u001b[1;32m----> 8\u001b[1;33m     \u001b[0mdriver\u001b[0m\u001b[1;33m.\u001b[0m\u001b[0mget\u001b[0m\u001b[1;33m(\u001b[0m\u001b[0mfulllink\u001b[0m\u001b[1;33m)\u001b[0m\u001b[1;33m\u001b[0m\u001b[1;33m\u001b[0m\u001b[0m\n\u001b[0m\u001b[0;32m      9\u001b[0m     \u001b[0mtime\u001b[0m\u001b[1;33m.\u001b[0m\u001b[0msleep\u001b[0m\u001b[1;33m(\u001b[0m\u001b[1;36m8\u001b[0m\u001b[1;33m)\u001b[0m\u001b[1;33m\u001b[0m\u001b[1;33m\u001b[0m\u001b[0m\n\u001b[0;32m     10\u001b[0m     \u001b[0msrc\u001b[0m \u001b[1;33m=\u001b[0m \u001b[0mdriver\u001b[0m\u001b[1;33m.\u001b[0m\u001b[0mpage_source\u001b[0m\u001b[1;33m\u001b[0m\u001b[1;33m\u001b[0m\u001b[0m\n",
      "\u001b[1;32m~\\anaconda3\\lib\\site-packages\\selenium\\webdriver\\remote\\webdriver.py\u001b[0m in \u001b[0;36mget\u001b[1;34m(self, url)\u001b[0m\n\u001b[0;32m    435\u001b[0m         \u001b[0mLoads\u001b[0m \u001b[0ma\u001b[0m \u001b[0mweb\u001b[0m \u001b[0mpage\u001b[0m \u001b[1;32min\u001b[0m \u001b[0mthe\u001b[0m \u001b[0mcurrent\u001b[0m \u001b[0mbrowser\u001b[0m \u001b[0msession\u001b[0m\u001b[1;33m.\u001b[0m\u001b[1;33m\u001b[0m\u001b[1;33m\u001b[0m\u001b[0m\n\u001b[0;32m    436\u001b[0m         \"\"\"\n\u001b[1;32m--> 437\u001b[1;33m         \u001b[0mself\u001b[0m\u001b[1;33m.\u001b[0m\u001b[0mexecute\u001b[0m\u001b[1;33m(\u001b[0m\u001b[0mCommand\u001b[0m\u001b[1;33m.\u001b[0m\u001b[0mGET\u001b[0m\u001b[1;33m,\u001b[0m \u001b[1;33m{\u001b[0m\u001b[1;34m'url'\u001b[0m\u001b[1;33m:\u001b[0m \u001b[0murl\u001b[0m\u001b[1;33m}\u001b[0m\u001b[1;33m)\u001b[0m\u001b[1;33m\u001b[0m\u001b[1;33m\u001b[0m\u001b[0m\n\u001b[0m\u001b[0;32m    438\u001b[0m \u001b[1;33m\u001b[0m\u001b[0m\n\u001b[0;32m    439\u001b[0m     \u001b[1;33m@\u001b[0m\u001b[0mproperty\u001b[0m\u001b[1;33m\u001b[0m\u001b[1;33m\u001b[0m\u001b[0m\n",
      "\u001b[1;32m~\\anaconda3\\lib\\site-packages\\selenium\\webdriver\\remote\\webdriver.py\u001b[0m in \u001b[0;36mexecute\u001b[1;34m(self, driver_command, params)\u001b[0m\n\u001b[0;32m    423\u001b[0m         \u001b[0mresponse\u001b[0m \u001b[1;33m=\u001b[0m \u001b[0mself\u001b[0m\u001b[1;33m.\u001b[0m\u001b[0mcommand_executor\u001b[0m\u001b[1;33m.\u001b[0m\u001b[0mexecute\u001b[0m\u001b[1;33m(\u001b[0m\u001b[0mdriver_command\u001b[0m\u001b[1;33m,\u001b[0m \u001b[0mparams\u001b[0m\u001b[1;33m)\u001b[0m\u001b[1;33m\u001b[0m\u001b[1;33m\u001b[0m\u001b[0m\n\u001b[0;32m    424\u001b[0m         \u001b[1;32mif\u001b[0m \u001b[0mresponse\u001b[0m\u001b[1;33m:\u001b[0m\u001b[1;33m\u001b[0m\u001b[1;33m\u001b[0m\u001b[0m\n\u001b[1;32m--> 425\u001b[1;33m             \u001b[0mself\u001b[0m\u001b[1;33m.\u001b[0m\u001b[0merror_handler\u001b[0m\u001b[1;33m.\u001b[0m\u001b[0mcheck_response\u001b[0m\u001b[1;33m(\u001b[0m\u001b[0mresponse\u001b[0m\u001b[1;33m)\u001b[0m\u001b[1;33m\u001b[0m\u001b[1;33m\u001b[0m\u001b[0m\n\u001b[0m\u001b[0;32m    426\u001b[0m             response['value'] = self._unwrap_value(\n\u001b[0;32m    427\u001b[0m                 response.get('value', None))\n",
      "\u001b[1;32m~\\anaconda3\\lib\\site-packages\\selenium\\webdriver\\remote\\errorhandler.py\u001b[0m in \u001b[0;36mcheck_response\u001b[1;34m(self, response)\u001b[0m\n\u001b[0;32m    245\u001b[0m                 \u001b[0malert_text\u001b[0m \u001b[1;33m=\u001b[0m \u001b[0mvalue\u001b[0m\u001b[1;33m[\u001b[0m\u001b[1;34m'alert'\u001b[0m\u001b[1;33m]\u001b[0m\u001b[1;33m.\u001b[0m\u001b[0mget\u001b[0m\u001b[1;33m(\u001b[0m\u001b[1;34m'text'\u001b[0m\u001b[1;33m)\u001b[0m\u001b[1;33m\u001b[0m\u001b[1;33m\u001b[0m\u001b[0m\n\u001b[0;32m    246\u001b[0m             \u001b[1;32mraise\u001b[0m \u001b[0mexception_class\u001b[0m\u001b[1;33m(\u001b[0m\u001b[0mmessage\u001b[0m\u001b[1;33m,\u001b[0m \u001b[0mscreen\u001b[0m\u001b[1;33m,\u001b[0m \u001b[0mstacktrace\u001b[0m\u001b[1;33m,\u001b[0m \u001b[0malert_text\u001b[0m\u001b[1;33m)\u001b[0m  \u001b[1;31m# type: ignore[call-arg]  # mypy is not smart enough here\u001b[0m\u001b[1;33m\u001b[0m\u001b[1;33m\u001b[0m\u001b[0m\n\u001b[1;32m--> 247\u001b[1;33m         \u001b[1;32mraise\u001b[0m \u001b[0mexception_class\u001b[0m\u001b[1;33m(\u001b[0m\u001b[0mmessage\u001b[0m\u001b[1;33m,\u001b[0m \u001b[0mscreen\u001b[0m\u001b[1;33m,\u001b[0m \u001b[0mstacktrace\u001b[0m\u001b[1;33m)\u001b[0m\u001b[1;33m\u001b[0m\u001b[1;33m\u001b[0m\u001b[0m\n\u001b[0m\u001b[0;32m    248\u001b[0m \u001b[1;33m\u001b[0m\u001b[0m\n\u001b[0;32m    249\u001b[0m     \u001b[1;32mdef\u001b[0m \u001b[0m_value_or_default\u001b[0m\u001b[1;33m(\u001b[0m\u001b[0mself\u001b[0m\u001b[1;33m,\u001b[0m \u001b[0mobj\u001b[0m\u001b[1;33m:\u001b[0m \u001b[0mMapping\u001b[0m\u001b[1;33m[\u001b[0m\u001b[0m_KT\u001b[0m\u001b[1;33m,\u001b[0m \u001b[0m_VT\u001b[0m\u001b[1;33m]\u001b[0m\u001b[1;33m,\u001b[0m \u001b[0mkey\u001b[0m\u001b[1;33m:\u001b[0m \u001b[0m_KT\u001b[0m\u001b[1;33m,\u001b[0m \u001b[0mdefault\u001b[0m\u001b[1;33m:\u001b[0m \u001b[0m_VT\u001b[0m\u001b[1;33m)\u001b[0m \u001b[1;33m->\u001b[0m \u001b[0m_VT\u001b[0m\u001b[1;33m:\u001b[0m\u001b[1;33m\u001b[0m\u001b[1;33m\u001b[0m\u001b[0m\n",
      "\u001b[1;31mTimeoutException\u001b[0m: Message: timeout: Timed out receiving message from renderer: 299.119\n  (Session info: chrome=100.0.4896.127)\nStacktrace:\nBacktrace:\n\tOrdinal0 [0x00F47413+2389011]\n\tOrdinal0 [0x00ED9F61+1941345]\n\tOrdinal0 [0x00DCC658+837208]\n\tOrdinal0 [0x00DBDB80+777088]\n\tOrdinal0 [0x00DBC995+772501]\n\tOrdinal0 [0x00DBCF98+774040]\n\tOrdinal0 [0x00DC796F+817519]\n\tOrdinal0 [0x00DD243B+861243]\n\tOrdinal0 [0x00DD4E10+871952]\n\tOrdinal0 [0x00DBD266+774758]\n\tOrdinal0 [0x00DD2289+860809]\n\tOrdinal0 [0x00E2464D+1197645]\n\tOrdinal0 [0x00E13F66+1130342]\n\tOrdinal0 [0x00DEE546+976198]\n\tOrdinal0 [0x00DEF456+980054]\n\tGetHandleVerifier [0x010F9632+1727522]\n\tGetHandleVerifier [0x011ABA4D+2457661]\n\tGetHandleVerifier [0x00FDEB81+569713]\n\tGetHandleVerifier [0x00FDDD76+566118]\n\tOrdinal0 [0x00EE0B2B+1968939]\n\tOrdinal0 [0x00EE5988+1989000]\n\tOrdinal0 [0x00EE5A75+1989237]\n\tOrdinal0 [0x00EEECB1+2026673]\n\tBaseThreadInitThunk [0x76006739+25]\n\tRtlGetFullPathName_UEx [0x77E28E7F+1215]\n\tRtlGetFullPathName_UEx [0x77E28E4D+1165]\n"
     ]
    }
   ],
   "source": [
    "profilesID = items_urls\n",
    "names = []\n",
    "companies = []\n",
    "locs = []\n",
    "\n",
    "for profileID in profilesID:\n",
    "    fulllink =  profileID\n",
    "    driver.get(fulllink)\n",
    "    time.sleep(8)\n",
    "    src = driver.page_source\n",
    "    soup = BeautifulSoup(src, 'lxml')\n",
    "\n",
    "    #scraping locations\n",
    "    name_div = soup.find_all('h4', {'class': 'pv-entity__location'})\n",
    "    loc = []\n",
    "    for i in range(len(name_div)):\n",
    "        span = name_div[i].find_all('span')\n",
    "        loc.append(span[1].get_text().strip())\n",
    "    locs.append(loc)\n",
    "\n",
    "    #scraping companies\n",
    "    name_div = soup.find_all('p', {'class': 'pv-entity__secondary-title t-14 t-black t-normal'})\n",
    "    company = []\n",
    "    for i in range(len(name_div)):\n",
    "        company.append(name_div[i].get_text().strip())\n",
    "    companies.append(company)"
   ]
  },
  {
   "cell_type": "code",
   "execution_count": null,
   "id": "7b234fe8",
   "metadata": {},
   "outputs": [],
   "source": [
    "ids = [i for i range(len(items_url))]\n",
    "df = pd.DataFrame(list(zip(ids, companies, locs)), \n",
    "               columns =['id', 'companies', 'locations']) "
   ]
  },
  {
   "cell_type": "code",
   "execution_count": 15,
   "id": "7dc9c58a",
   "metadata": {},
   "outputs": [
    {
     "name": "stderr",
     "output_type": "stream",
     "text": [
      "C:\\Users\\tahae\\AppData\\Local\\Temp/ipykernel_19192/2444876976.py:17: DeprecationWarning: find_elements_by_xpath is deprecated. Please use find_elements(by=By.XPATH, value=xpath) instead\n",
      "  testing = driver.find_elements_by_xpath(\n"
     ]
    },
    {
     "name": "stdout",
     "output_type": "stream",
     "text": [
      "0\n",
      "0\n",
      "0\n",
      "0\n",
      "0\n",
      "0\n",
      "0\n",
      "0\n",
      "0\n"
     ]
    }
   ],
   "source": [
    "while len(items_urls) < 100:\n",
    "\n",
    "    # keyboard.press_and_release('down arrow')\n",
    "    driver.execute_script(\"window.scrollTo(0, document.body.scrollHeight/.1);\")\n",
    "    time.sleep(.7)\n",
    "    cards_links = driver.find_elements(By.CLASS_NAME, \"org-people-profile-card__profile-info\")\n",
    "    if cards_links == testing:\n",
    "        count += 1\n",
    "    if count == 10:\n",
    "        break\n",
    "    for card in cards_links:\n",
    "        try:\n",
    "            item_url = card.get_attribute('href')\n",
    "            items_urls.append(item_url)\n",
    "        except:\n",
    "            continue\n",
    "    testing = driver.find_elements_by_xpath(\n",
    "        \"//section[@class='annonces ng-star-inserted']//a\")\n",
    "    cards_links = []\n",
    "    print(len(items_urls))"
   ]
  },
  {
   "cell_type": "code",
   "execution_count": null,
   "id": "22652520",
   "metadata": {},
   "outputs": [],
   "source": []
  }
 ],
 "metadata": {
  "kernelspec": {
   "display_name": "Python 3 (ipykernel)",
   "language": "python",
   "name": "python3"
  },
  "language_info": {
   "codemirror_mode": {
    "name": "ipython",
    "version": 3
   },
   "file_extension": ".py",
   "mimetype": "text/x-python",
   "name": "python",
   "nbconvert_exporter": "python",
   "pygments_lexer": "ipython3",
   "version": "3.9.7"
  }
 },
 "nbformat": 4,
 "nbformat_minor": 5
}
