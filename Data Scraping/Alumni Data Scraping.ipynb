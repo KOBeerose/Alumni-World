{
 "cells": [
  {
   "cell_type": "code",
   "execution_count": 1,
   "id": "1306a832",
   "metadata": {},
   "outputs": [],
   "source": [
    "# importing all the necessary libaries\n",
    "import os\n",
    "import csv\n",
    "import time\n",
    "import string\n",
    "import keyboard\n",
    "import pandas as pd\n",
    "from re import search\n",
    "from bs4 import BeautifulSoup\n",
    "\n",
    "from selenium import webdriver\n",
    "from selenium.webdriver.common.by import By\n",
    "from selenium.webdriver.common.keys import Keys\n",
    "from selenium.webdriver.chrome.service import Service\n",
    "from selenium.webdriver.chrome.options import Options\n",
    "from selenium.webdriver.support.ui import WebDriverWait\n",
    "from webdriver_manager.chrome import ChromeDriverManager\n",
    "from selenium.webdriver.support import expected_conditions as EC\n",
    "from selenium.webdriver.common.action_chains import ActionChains"
   ]
  },
  {
   "cell_type": "code",
   "execution_count": 2,
   "id": "83598c68",
   "metadata": {},
   "outputs": [],
   "source": [
    "# define your school name right here:\n",
    "\n",
    "School_name = \"Massachusetts Institute of Technology\""
   ]
  },
  {
   "cell_type": "code",
   "execution_count": 3,
   "id": "8146a21c",
   "metadata": {
    "scrolled": false
   },
   "outputs": [
    {
     "name": "stderr",
     "output_type": "stream",
     "text": [
      "\n",
      "\n",
      "====== WebDriver manager ======\n",
      "Current google-chrome version is 102.0.5005\n",
      "Get LATEST chromedriver version for 102.0.5005 google-chrome\n",
      "Driver [C:\\Users\\tahae\\.wdm\\drivers\\chromedriver\\win32\\102.0.5005.61\\chromedriver.exe] found in cache\n"
     ]
    }
   ],
   "source": [
    "# defining the webdriver and config btw this code will be almost the same in all of your selenium scripts\n",
    "options = Options()\n",
    "\n",
    "# !!! blocking browser notifications !!!\n",
    "prefs = {\"profile.default_content_setting_values.notifications\": 2}\n",
    "options.add_experimental_option(\"prefs\", prefs)\n",
    "\n",
    "# starting in maximized window\n",
    "options.add_argument(\"start-maximized\")\n",
    "options.add_argument(\"--disable-default-apps\")\n",
    "driver = webdriver.Chrome(service=Service(ChromeDriverManager().install()), options=options)"
   ]
  },
  {
   "cell_type": "code",
   "execution_count": 4,
   "id": "e5137bf1",
   "metadata": {},
   "outputs": [],
   "source": [
    "driver.get(\"https://www.linkedin.com/login/\")"
   ]
  },
  {
   "cell_type": "code",
   "execution_count": 5,
   "id": "6e3a93bc",
   "metadata": {},
   "outputs": [],
   "source": [
    "username = os.environ.get(\"ln_us\")\n",
    "password = os.environ.get(\"ln_ps\")"
   ]
  },
  {
   "cell_type": "code",
   "execution_count": 6,
   "id": "1518a7f3",
   "metadata": {},
   "outputs": [],
   "source": [
    "username_field = driver.find_element(By.ID,\"username\")\n",
    "username_field.send_keys(username)\n",
    "\n",
    "password_field = driver.find_element(By.ID,\"password\")\n",
    "password_field.send_keys(password)\n",
    "\n",
    "password_field.submit()"
   ]
  },
  {
   "cell_type": "code",
   "execution_count": 7,
   "id": "542f0747",
   "metadata": {},
   "outputs": [
    {
     "data": {
      "text/plain": [
       "'search_bar = driver.find_element(By.CLASS_NAME,\"search-global-typeahead__input\")\\nsearch_bar.send_keys(School_name)\\ntime.sleep(1)\\nkeyboard.press_and_release(\\'enter\\')'"
      ]
     },
     "execution_count": 7,
     "metadata": {},
     "output_type": "execute_result"
    }
   ],
   "source": [
    "'''search_bar = driver.find_element(By.CLASS_NAME,\"search-global-typeahead__input\")\n",
    "search_bar.send_keys(School_name)\n",
    "time.sleep(1)\n",
    "keyboard.press_and_release('enter')'''"
   ]
  },
  {
   "cell_type": "code",
   "execution_count": 8,
   "id": "6b576b24",
   "metadata": {},
   "outputs": [],
   "source": [
    "driver.get(\"https://www.linkedin.com/search/results/schools/?keywords=\"+School_name)\n",
    "time.sleep(3)"
   ]
  },
  {
   "cell_type": "code",
   "execution_count": 9,
   "id": "af565a38",
   "metadata": {},
   "outputs": [],
   "source": [
    "#first_result = WebDriverWait(driver, 2).until(EC.element_to_be_clickable((By.XPATH, \"\"\"//*[@id=\"main\"]/div/div/div[1]/ul/li/div/div/div[2]/div/div[1]/div/span/span/a\"\"\")))\n",
    "#first_result.click()\n",
    "school_url = driver.find_element(By.XPATH, \"\"\"//*[@id=\"main\"]/div/div/div[1]/ul/li/div/div/div[2]/div/div[1]/div/span/span/a\"\"\").get_attribute('href')\n",
    "driver.get(school_url)"
   ]
  },
  {
   "cell_type": "code",
   "execution_count": 10,
   "id": "e21ef569",
   "metadata": {},
   "outputs": [],
   "source": [
    "driver.get(driver.current_url+\"people\")\n",
    "time.sleep(3)"
   ]
  },
  {
   "cell_type": "code",
   "execution_count": 11,
   "id": "022bb07d",
   "metadata": {
    "scrolled": false
   },
   "outputs": [
    {
     "name": "stdout",
     "output_type": "stream",
     "text": [
      "12\n",
      "Abeer Sabah\n",
      "2nd degree connection\n",
      "· 2nd\n",
      "HR Director at Al Muhaidib Group - Al Maha Iraq ( A Nestle Sales & Distribution operation - Iraq)\n",
      "4 shared connections\n",
      "----------------------------------\n",
      "\n",
      "Safa Bndyan\n",
      "2nd degree connection\n",
      "· 2nd\n",
      "HR at STA Jaguar Land Rover\n",
      "’20 International Business Management\n",
      "2 shared connections\n",
      "----------------------------------\n",
      "\n",
      "Abrar Alqaryuti\n",
      "2nd degree connection\n",
      "· 2nd\n",
      "Project Manager\n",
      "’18 Supply Chain Management\n",
      "----------------------------------\n",
      "\n",
      "Nahla Akhdar , CIPD, EMBA\n",
      "2nd degree connection\n",
      "· 2nd\n",
      "Human Resources General Director at General Authority For Statistics - GASTAT\n",
      "’19 Design-Driven Leadership Course\n",
      "1 shared connection\n",
      "----------------------------------\n",
      "\n",
      "Salman A.\n",
      "2nd degree connection\n",
      "· 2nd\n",
      "Assistant deputy minister at Ministry of Justice - KSA\n",
      "’17 Strategy and Innovation\n",
      "----------------------------------\n",
      "\n",
      "Nermeen Elsokaty\n",
      "2nd degree connection\n",
      "· 2nd\n",
      "Premier Manager at Attijariwafa bank Egypt Mit Ghamr Branch\n",
      "2 shared connections\n",
      "----------------------------------\n",
      "\n",
      "Mohamed Fathy\n",
      "2nd degree connection\n",
      "· 2nd\n",
      "Chief Information Officer | Managing Director at EFG Hermes\n",
      "’22 Blockchain - Cloud computing - AI - IoT - Cybersecurity, Machine Learning, Cultural Awareness.\n",
      "1 shared connection\n",
      "----------------------------------\n",
      "\n",
      "David Boggs,\n",
      "2nd degree connection\n",
      "· 2nd\n",
      "Project Manager and Business Planning Specialist\n",
      "’18 Business Administration and Management, General\n",
      "1 shared connection\n",
      "----------------------------------\n",
      "\n",
      "Main Khalila\n",
      "2nd degree connection\n",
      "· 2nd\n",
      "Consultant at EY | MIT MicroMasters in Finance and Statistics & Data Science\n",
      "’22 Finance\n",
      "1 shared connection\n",
      "----------------------------------\n",
      "\n",
      "Ghada Siddiqui\n",
      "2nd degree connection\n",
      "· 2nd\n",
      "Associate Territory Services Manager at Red Hat\n",
      "’19 Artificial Intelligence: Implications For Business Startegy\n",
      "1 shared connection\n",
      "----------------------------------\n",
      "\n",
      "Abe Seksek\n",
      "2nd degree connection\n",
      "· 2nd\n",
      "COO and Chief of people at Rainmaking MENA\n",
      "’18 Radical Innovation\n",
      "1 shared connection\n",
      "----------------------------------\n",
      "\n",
      "Kristen Jabbour\n",
      "2nd degree connection\n",
      "· 2nd\n",
      "Yale School of Management\n",
      "Artificial Intelligence\n",
      "1 shared connection\n",
      "----------------------------------\n",
      "\n"
     ]
    }
   ],
   "source": [
    "count = 0\n",
    "items_urls = []\n",
    "testing = []\n",
    "cards_links = driver.find_elements(By.CLASS_NAME, \"org-people-profile-card__profile-info\")\n",
    "print(len(cards_links))\n",
    "for card in cards_links: print(card.text+\"\\n----------------------------------\\n\")\n"
   ]
  },
  {
   "cell_type": "code",
   "execution_count": 12,
   "id": "b30b799c",
   "metadata": {
    "scrolled": true
   },
   "outputs": [
    {
     "name": "stdout",
     "output_type": "stream",
     "text": [
      "lengh is: 12\n",
      "Abeer Sabah\n",
      "2nd degree connection\n",
      "· 2nd\n",
      "HR Director at Al Muhaidib Group - Al Maha Iraq ( A Nestle Sales & Distribution operation - Iraq)\n",
      "4 shared connections\n",
      "----------------------------------\n",
      "\n",
      "Safa Bndyan\n",
      "2nd degree connection\n",
      "· 2nd\n",
      "HR at STA Jaguar Land Rover\n",
      "’20 International Business Management\n",
      "2 shared connections\n",
      "----------------------------------\n",
      "\n",
      "Abrar Alqaryuti\n",
      "2nd degree connection\n",
      "· 2nd\n",
      "Project Manager\n",
      "’18 Supply Chain Management\n",
      "----------------------------------\n",
      "\n",
      "Nahla Akhdar , CIPD, EMBA\n",
      "2nd degree connection\n",
      "· 2nd\n",
      "Human Resources General Director at General Authority For Statistics - GASTAT\n",
      "’19 Design-Driven Leadership Course\n",
      "1 shared connection\n",
      "----------------------------------\n",
      "\n",
      "Salman A.\n",
      "2nd degree connection\n",
      "· 2nd\n",
      "Assistant deputy minister at Ministry of Justice - KSA\n",
      "’17 Strategy and Innovation\n",
      "----------------------------------\n",
      "\n",
      "Nermeen Elsokaty\n",
      "2nd degree connection\n",
      "· 2nd\n",
      "Premier Manager at Attijariwafa bank Egypt Mit Ghamr Branch\n",
      "2 shared connections\n",
      "----------------------------------\n",
      "\n",
      "Mohamed Fathy\n",
      "2nd degree connection\n",
      "· 2nd\n",
      "Chief Information Officer | Managing Director at EFG Hermes\n",
      "’22 Blockchain - Cloud computing - AI - IoT - Cybersecurity, Machine Learning, Cultural Awareness.\n",
      "1 shared connection\n",
      "----------------------------------\n",
      "\n",
      "David Boggs,\n",
      "2nd degree connection\n",
      "· 2nd\n",
      "Project Manager and Business Planning Specialist\n",
      "’18 Business Administration and Management, General\n",
      "1 shared connection\n",
      "----------------------------------\n",
      "\n",
      "Main Khalila\n",
      "2nd degree connection\n",
      "· 2nd\n",
      "Consultant at EY | MIT MicroMasters in Finance and Statistics & Data Science\n",
      "’22 Finance\n",
      "1 shared connection\n",
      "----------------------------------\n",
      "\n",
      "Ghada Siddiqui\n",
      "2nd degree connection\n",
      "· 2nd\n",
      "Associate Territory Services Manager at Red Hat\n",
      "’19 Artificial Intelligence: Implications For Business Startegy\n",
      "1 shared connection\n",
      "----------------------------------\n",
      "\n",
      "Abe Seksek\n",
      "2nd degree connection\n",
      "· 2nd\n",
      "COO and Chief of people at Rainmaking MENA\n",
      "’18 Radical Innovation\n",
      "1 shared connection\n",
      "----------------------------------\n",
      "\n",
      "Kristen Jabbour\n",
      "2nd degree connection\n",
      "· 2nd\n",
      "Yale School of Management\n",
      "Artificial Intelligence\n",
      "1 shared connection\n",
      "----------------------------------\n",
      "\n"
     ]
    }
   ],
   "source": [
    "print(\"lengh is: \"+str(len(cards_links)))\n",
    "for card in cards_links: print(card.text+\"\\n----------------------------------\\n\")"
   ]
  },
  {
   "cell_type": "code",
   "execution_count": 13,
   "id": "81cc95eb",
   "metadata": {
    "scrolled": true
   },
   "outputs": [
    {
     "name": "stdout",
     "output_type": "stream",
     "text": [
      "https://www.linkedin.com/in/abeer-sabah-92b02396/\n",
      "https://www.linkedin.com/in/safa-alden/\n",
      "https://www.linkedin.com/in/abrar-alqaryuti-563a6012b/\n",
      "https://www.linkedin.com/in/nahla-akhdar-cipd-emba-1a99a152/\n",
      "https://www.linkedin.com/in/salman-a-bb094612/\n",
      "https://www.linkedin.com/in/nermeen-elsokaty-a8900811a/\n",
      "https://www.linkedin.com/in/mohamedsayedfathy/\n",
      "https://www.linkedin.com/in/davidbboggs/\n",
      "https://www.linkedin.com/in/main-khalila/\n",
      "https://www.linkedin.com/in/ghadasiddiqui/\n",
      "https://www.linkedin.com/in/abeseksek/\n",
      "https://www.linkedin.com/in/kristen-jabbour-0b6695128/\n"
     ]
    }
   ],
   "source": [
    "count = 0\n",
    "items_urls = []\n",
    "testing = []\n",
    "\n",
    "cards = driver.find_elements(By.XPATH, \"//body[@class='render-mode-BIGPIPE nav-v2 ember-application icons-loaded boot-complete']/div[@class='application-outlet']/div[@class='authentication-outlet']/div[@class='organization-outlet relative']/div[2]/div[1]/div[2]/main[1]/div[2]/div[1]/div[2]/div[1]/div[1]/ul[1]/li/section[1]/div[1]/div[1]/div[1]/a\")\n",
    "\n",
    "for card in cards:\n",
    "    print(card.get_attribute('href'))\n"
   ]
  },
  {
   "cell_type": "code",
   "execution_count": 14,
   "id": "340a0866",
   "metadata": {},
   "outputs": [],
   "source": [
    "bol = 0\n",
    "while bol<5:\n",
    "    driver.execute_script(\"window.scrollTo(0, document.body.scrollHeight/.1);\")\n",
    "    time.sleep(.7)\n",
    "    try:\n",
    "        show_more = driver.find_element(By.XPATH, \"//button[@class='artdeco-button artdeco-button--muted artdeco-button--1 artdeco-button--full artdeco-button--secondary ember-view scaffold-finite-scroll__load-button']\")\n",
    "        show_more.click()\n",
    "    except :\n",
    "        continue\n",
    "    bol+=1\n",
    "    "
   ]
  },
  {
   "cell_type": "code",
   "execution_count": 15,
   "id": "b1c2cf9b",
   "metadata": {
    "scrolled": false
   },
   "outputs": [
    {
     "name": "stdout",
     "output_type": "stream",
     "text": [
      "['https://www.linkedin.com/in/abeer-sabah-92b02396/', 'https://www.linkedin.com/in/safa-alden/', 'https://www.linkedin.com/in/abrar-alqaryuti-563a6012b/', 'https://www.linkedin.com/in/nahla-akhdar-cipd-emba-1a99a152/', 'https://www.linkedin.com/in/salman-a-bb094612/', 'https://www.linkedin.com/in/nermeen-elsokaty-a8900811a/', 'https://www.linkedin.com/in/mohamedsayedfathy/', 'https://www.linkedin.com/in/davidbboggs/', 'https://www.linkedin.com/in/main-khalila/', 'https://www.linkedin.com/in/ghadasiddiqui/', 'https://www.linkedin.com/in/abeseksek/', 'https://www.linkedin.com/in/kristen-jabbour-0b6695128/', 'https://www.linkedin.com/in/khalid-alsomali-chrm-emba-mba-9900b324/', 'https://www.linkedin.com/in/sohad-battah-al-hijjawi-cipm-636293145/', 'https://www.linkedin.com/in/mazen-salo-b268a33a/', 'https://www.linkedin.com/in/zakaria-abbas/', 'https://www.linkedin.com/in/ahmedtalaathatata/', 'https://www.linkedin.com/in/mahmoud-salah-cpim-m-sc-65b5158b/', 'https://www.linkedin.com/in/eman-hosam-379e/', 'https://www.linkedin.com/in/almuayyad-makki-67691787/', 'https://www.linkedin.com/in/brajeshin/', 'https://www.linkedin.com/in/sarahzayan/', 'https://www.linkedin.com/in/safieeldinahmed/', 'https://www.linkedin.com/in/farhankhawaja/', 'https://www.linkedin.com/in/dan-walker-0314a9b5/', 'https://www.linkedin.com/in/belghuith-asma-a0701a152/', 'https://www.linkedin.com/in/josefernandezquero/', 'https://www.linkedin.com/in/andrewztan/', 'https://www.linkedin.com/in/reem-alhumaidan-69b18976/', 'https://www.linkedin.com/in/praveen-k-1aa344b9/', 'https://www.linkedin.com/in/mohmed-al-sayed-344552104/', 'https://www.linkedin.com/in/remram/', 'https://www.linkedin.com/in/majda-elghaoui-81b26464/', 'https://www.linkedin.com/in/michael-i-aa1a3b1b9/', 'https://www.linkedin.com/in/denisecjohnson/', 'https://www.linkedin.com/in/dhananjay-bhagwat/', 'https://www.linkedin.com/in/saleh-mohsen-saleh-torieh-92092070/', 'https://www.linkedin.com/in/daniel-lambert007/', 'https://www.linkedin.com/in/sanaa-z-59242669/', 'https://www.linkedin.com/in/siham-ameziane-elhassani-152a71208/', 'https://www.linkedin.com/in/souilhi-ahmed-53330394/', 'https://www.linkedin.com/in/walid-meski-356552a/', 'https://www.linkedin.com/in/mohammed-senhaji-it/', 'https://www.linkedin.com/in/nasserjennane/', 'https://www.linkedin.com/in/othmane-ouardi-32b85418/', 'https://www.linkedin.com/in/othmane-kaba-43a660119/', 'https://www.linkedin.com/in/jawaher-binjawhar-ab80b321/', 'https://www.linkedin.com/in/amar-benzahra-464a31137/', 'https://www.linkedin.com/in/ichrak-lachheb/', 'https://www.linkedin.com/in/ismael-kaissy-a88775176/', 'https://www.linkedin.com/in/souleiman-hassani-ouazzani-a0202541/', 'https://www.linkedin.com/in/anass-lahmamsi-8a80871b/', 'https://www.linkedin.com/in/ragragui-yassine-5a37174b/', 'https://www.linkedin.com/in/fatiha-charradi-285b38/', 'https://www.linkedin.com/in/mounia-mansouri/', 'https://www.linkedin.com/in/jamal-eddine-bensari-72a89889/', 'https://www.linkedin.com/in/abdessamad-riabi-57657b61/', 'https://www.linkedin.com/in/boulif-rachid-69bb09bb/', 'https://www.linkedin.com/in/mehdimranialaoui/', 'https://www.linkedin.com/in/lahrachsamir/', 'https://www.linkedin.com/in/abderrahim-qaissouni-0aa32688/', 'https://www.linkedin.com/in/arnaud-bihannic-b5b6361/', 'https://www.linkedin.com/in/samya-belhaj-8a090314b/', 'https://www.linkedin.com/in/mostafa-dahmani-838160114/', 'https://www.linkedin.com/in/mohammed-zine-b007001bb/', 'https://www.linkedin.com/in/jaouhar-jebril-2a98b75a/', 'https://www.linkedin.com/in/siham-mekouar-a36b54223/', 'https://www.linkedin.com/in/youssef-lachghar-893533116/', 'https://www.linkedin.com/in/yassinezehrouni/', 'https://www.linkedin.com/in/tala-al-jaberi-38bb44a9/', 'https://www.linkedin.com/in/mohamed-belguerch-860707143/', 'https://www.linkedin.com/in/mohamed-lahkim-bennani-5a44bb24/', 'https://www.linkedin.com/in/soufian-touani-8314574b/', 'https://www.linkedin.com/in/yasmina-triki-1182121b/', 'https://www.linkedin.com/in/mhamed-essahli-5962506a/', 'https://www.linkedin.com/in/abla-bennani-6024732/', 'https://www.linkedin.com/in/nada-elmajdoub-26b22012/', 'https://www.linkedin.com/in/suzannem1/', 'https://www.linkedin.com/in/anass-hassainate/', 'https://www.linkedin.com/in/nihal-elbakali-ep-benchekroun-57bb293b/', 'https://www.linkedin.com/in/drisselguess/', 'https://www.linkedin.com/in/mohamed-hafdi-84276960/', 'https://www.linkedin.com/in/khalid-adly-36813343/', 'https://www.linkedin.com/in/nesrine-roudane-4580b616/', 'https://www.linkedin.com/in/ezzinetaha/', 'https://www.linkedin.com/in/el-mallah-abdelaziz-7321b263/', 'https://www.linkedin.com/in/driss-dhiba-eng-phd-683b53b7/', 'https://www.linkedin.com/in/george-roberts-82109a68/', 'https://www.linkedin.com/in/jaouad-kassami-b43a92159/', 'https://www.linkedin.com/in/kboumediene/', 'https://www.linkedin.com/in/haithambarhoune/', 'https://www.linkedin.com/in/imane-e-53a725b4/', 'https://www.linkedin.com/in/souhail-maazioui-eng-3a5042b3/', 'https://www.linkedin.com/in/mamadou-moustapha-seck-87647719/', 'https://www.linkedin.com/in/meriame-el-alaoui-47647571/', 'https://www.linkedin.com/in/mouhcine-nahal-87b79414b/', 'https://www.linkedin.com/in/abderrahim-msaidi-71bba317/', 'https://www.linkedin.com/in/mustapha-ouhadi-44564310/']\n"
     ]
    }
   ],
   "source": [
    "\n",
    "count = 0\n",
    "items_urls = []\n",
    "testing = []\n",
    "while len(items_urls) < 50:\n",
    "\n",
    "    # keyboard.press_and_release('down arrow')\n",
    "    driver.execute_script(\"window.scrollTo(0, document.body.scrollHeight/.1);\")\n",
    "    time.sleep(.7)\n",
    "    cards_links = driver.find_elements(By.XPATH, \"//body[@class='render-mode-BIGPIPE nav-v2 ember-application icons-loaded boot-complete']/div[@class='application-outlet']/div[@class='authentication-outlet']/div[@class='organization-outlet relative']/div[2]/div[1]/div[2]/main[1]/div[2]/div[1]/div[2]/div[1]/div[1]/ul[1]/li/section[1]/div[1]/div[1]/div[1]/a\")\n",
    "    if cards_links == testing:\n",
    "        break\n",
    "    for card in cards_links:\n",
    "        try:\n",
    "            items_urls.append(card.get_attribute('href'))\n",
    "        except:\n",
    "            continue\n",
    "    testing = driver.find_elements(By.XPATH, \"//body[@class='render-mode-BIGPIPE nav-v2 ember-application icons-loaded boot-complete']/div[@class='application-outlet']/div[@class='authentication-outlet']/div[@class='organization-outlet relative']/div[2]/div[1]/div[2]/main[1]/div[2]/div[1]/div[2]/div[1]/div[1]/ul[1]/li/section[1]/div[1]/div[1]/div[1]/a\")\n",
    "    cards_links = []\n",
    "print(items_urls)"
   ]
  },
  {
   "cell_type": "code",
   "execution_count": 16,
   "id": "2b743087",
   "metadata": {},
   "outputs": [
    {
     "name": "stdout",
     "output_type": "stream",
     "text": [
      "0\n"
     ]
    }
   ],
   "source": [
    "print(len(cards_links))"
   ]
  },
  {
   "cell_type": "code",
   "execution_count": 17,
   "id": "225ca813",
   "metadata": {},
   "outputs": [
    {
     "ename": "WebDriverException",
     "evalue": "Message: chrome not reachable\n  (Session info: chrome=102.0.5005.63)\nStacktrace:\nBacktrace:\n\tOrdinal0 [0x0036D953+2414931]\n\tOrdinal0 [0x002FF5E1+1963489]\n\tOrdinal0 [0x001EC580+836992]\n\tOrdinal0 [0x001E01E2+786914]\n\tOrdinal0 [0x001E0A18+789016]\n\tOrdinal0 [0x001E22F2+795378]\n\tOrdinal0 [0x001DBCA9+769193]\n\tOrdinal0 [0x001EDA30+842288]\n\tOrdinal0 [0x00243FF2+1196018]\n\tOrdinal0 [0x002342B6+1131190]\n\tOrdinal0 [0x0020E860+976992]\n\tOrdinal0 [0x0020F756+980822]\n\tGetHandleVerifier [0x005DCC62+2510274]\n\tGetHandleVerifier [0x005CF760+2455744]\n\tGetHandleVerifier [0x003FEABA+551962]\n\tGetHandleVerifier [0x003FD916+547446]\n\tOrdinal0 [0x00305F3B+1990459]\n\tOrdinal0 [0x0030A898+2009240]\n\tOrdinal0 [0x0030A985+2009477]\n\tOrdinal0 [0x00313AD1+2046673]\n\tBaseThreadInitThunk [0x76CF6739+25]\n\tRtlGetFullPathName_UEx [0x77CF8FEF+1215]\n\tRtlGetFullPathName_UEx [0x77CF8FBD+1165]\n",
     "output_type": "error",
     "traceback": [
      "\u001b[1;31m---------------------------------------------------------------------------\u001b[0m",
      "\u001b[1;31mWebDriverException\u001b[0m                        Traceback (most recent call last)",
      "\u001b[1;32m~\\AppData\\Local\\Temp/ipykernel_5372/480522116.py\u001b[0m in \u001b[0;36m<module>\u001b[1;34m\u001b[0m\n\u001b[0;32m      7\u001b[0m \u001b[1;32mfor\u001b[0m \u001b[0mprofileID\u001b[0m \u001b[1;32min\u001b[0m \u001b[0mprofilesID\u001b[0m\u001b[1;33m:\u001b[0m\u001b[1;33m\u001b[0m\u001b[1;33m\u001b[0m\u001b[0m\n\u001b[0;32m      8\u001b[0m     \u001b[0mfulllink\u001b[0m \u001b[1;33m=\u001b[0m  \u001b[0mprofileID\u001b[0m\u001b[1;33m\u001b[0m\u001b[1;33m\u001b[0m\u001b[0m\n\u001b[1;32m----> 9\u001b[1;33m     \u001b[0mdriver\u001b[0m\u001b[1;33m.\u001b[0m\u001b[0mget\u001b[0m\u001b[1;33m(\u001b[0m\u001b[0mfulllink\u001b[0m\u001b[1;33m)\u001b[0m\u001b[1;33m\u001b[0m\u001b[1;33m\u001b[0m\u001b[0m\n\u001b[0m\u001b[0;32m     10\u001b[0m     \u001b[0mtime\u001b[0m\u001b[1;33m.\u001b[0m\u001b[0msleep\u001b[0m\u001b[1;33m(\u001b[0m\u001b[1;36m1\u001b[0m\u001b[1;33m)\u001b[0m\u001b[1;33m\u001b[0m\u001b[1;33m\u001b[0m\u001b[0m\n\u001b[0;32m     11\u001b[0m     \u001b[1;32mtry\u001b[0m\u001b[1;33m:\u001b[0m\u001b[1;33m\u001b[0m\u001b[1;33m\u001b[0m\u001b[0m\n",
      "\u001b[1;32m~\\anaconda3\\lib\\site-packages\\selenium\\webdriver\\remote\\webdriver.py\u001b[0m in \u001b[0;36mget\u001b[1;34m(self, url)\u001b[0m\n\u001b[0;32m    435\u001b[0m         \u001b[0mLoads\u001b[0m \u001b[0ma\u001b[0m \u001b[0mweb\u001b[0m \u001b[0mpage\u001b[0m \u001b[1;32min\u001b[0m \u001b[0mthe\u001b[0m \u001b[0mcurrent\u001b[0m \u001b[0mbrowser\u001b[0m \u001b[0msession\u001b[0m\u001b[1;33m.\u001b[0m\u001b[1;33m\u001b[0m\u001b[1;33m\u001b[0m\u001b[0m\n\u001b[0;32m    436\u001b[0m         \"\"\"\n\u001b[1;32m--> 437\u001b[1;33m         \u001b[0mself\u001b[0m\u001b[1;33m.\u001b[0m\u001b[0mexecute\u001b[0m\u001b[1;33m(\u001b[0m\u001b[0mCommand\u001b[0m\u001b[1;33m.\u001b[0m\u001b[0mGET\u001b[0m\u001b[1;33m,\u001b[0m \u001b[1;33m{\u001b[0m\u001b[1;34m'url'\u001b[0m\u001b[1;33m:\u001b[0m \u001b[0murl\u001b[0m\u001b[1;33m}\u001b[0m\u001b[1;33m)\u001b[0m\u001b[1;33m\u001b[0m\u001b[1;33m\u001b[0m\u001b[0m\n\u001b[0m\u001b[0;32m    438\u001b[0m \u001b[1;33m\u001b[0m\u001b[0m\n\u001b[0;32m    439\u001b[0m     \u001b[1;33m@\u001b[0m\u001b[0mproperty\u001b[0m\u001b[1;33m\u001b[0m\u001b[1;33m\u001b[0m\u001b[0m\n",
      "\u001b[1;32m~\\anaconda3\\lib\\site-packages\\selenium\\webdriver\\remote\\webdriver.py\u001b[0m in \u001b[0;36mexecute\u001b[1;34m(self, driver_command, params)\u001b[0m\n\u001b[0;32m    423\u001b[0m         \u001b[0mresponse\u001b[0m \u001b[1;33m=\u001b[0m \u001b[0mself\u001b[0m\u001b[1;33m.\u001b[0m\u001b[0mcommand_executor\u001b[0m\u001b[1;33m.\u001b[0m\u001b[0mexecute\u001b[0m\u001b[1;33m(\u001b[0m\u001b[0mdriver_command\u001b[0m\u001b[1;33m,\u001b[0m \u001b[0mparams\u001b[0m\u001b[1;33m)\u001b[0m\u001b[1;33m\u001b[0m\u001b[1;33m\u001b[0m\u001b[0m\n\u001b[0;32m    424\u001b[0m         \u001b[1;32mif\u001b[0m \u001b[0mresponse\u001b[0m\u001b[1;33m:\u001b[0m\u001b[1;33m\u001b[0m\u001b[1;33m\u001b[0m\u001b[0m\n\u001b[1;32m--> 425\u001b[1;33m             \u001b[0mself\u001b[0m\u001b[1;33m.\u001b[0m\u001b[0merror_handler\u001b[0m\u001b[1;33m.\u001b[0m\u001b[0mcheck_response\u001b[0m\u001b[1;33m(\u001b[0m\u001b[0mresponse\u001b[0m\u001b[1;33m)\u001b[0m\u001b[1;33m\u001b[0m\u001b[1;33m\u001b[0m\u001b[0m\n\u001b[0m\u001b[0;32m    426\u001b[0m             response['value'] = self._unwrap_value(\n\u001b[0;32m    427\u001b[0m                 response.get('value', None))\n",
      "\u001b[1;32m~\\anaconda3\\lib\\site-packages\\selenium\\webdriver\\remote\\errorhandler.py\u001b[0m in \u001b[0;36mcheck_response\u001b[1;34m(self, response)\u001b[0m\n\u001b[0;32m    245\u001b[0m                 \u001b[0malert_text\u001b[0m \u001b[1;33m=\u001b[0m \u001b[0mvalue\u001b[0m\u001b[1;33m[\u001b[0m\u001b[1;34m'alert'\u001b[0m\u001b[1;33m]\u001b[0m\u001b[1;33m.\u001b[0m\u001b[0mget\u001b[0m\u001b[1;33m(\u001b[0m\u001b[1;34m'text'\u001b[0m\u001b[1;33m)\u001b[0m\u001b[1;33m\u001b[0m\u001b[1;33m\u001b[0m\u001b[0m\n\u001b[0;32m    246\u001b[0m             \u001b[1;32mraise\u001b[0m \u001b[0mexception_class\u001b[0m\u001b[1;33m(\u001b[0m\u001b[0mmessage\u001b[0m\u001b[1;33m,\u001b[0m \u001b[0mscreen\u001b[0m\u001b[1;33m,\u001b[0m \u001b[0mstacktrace\u001b[0m\u001b[1;33m,\u001b[0m \u001b[0malert_text\u001b[0m\u001b[1;33m)\u001b[0m  \u001b[1;31m# type: ignore[call-arg]  # mypy is not smart enough here\u001b[0m\u001b[1;33m\u001b[0m\u001b[1;33m\u001b[0m\u001b[0m\n\u001b[1;32m--> 247\u001b[1;33m         \u001b[1;32mraise\u001b[0m \u001b[0mexception_class\u001b[0m\u001b[1;33m(\u001b[0m\u001b[0mmessage\u001b[0m\u001b[1;33m,\u001b[0m \u001b[0mscreen\u001b[0m\u001b[1;33m,\u001b[0m \u001b[0mstacktrace\u001b[0m\u001b[1;33m)\u001b[0m\u001b[1;33m\u001b[0m\u001b[1;33m\u001b[0m\u001b[0m\n\u001b[0m\u001b[0;32m    248\u001b[0m \u001b[1;33m\u001b[0m\u001b[0m\n\u001b[0;32m    249\u001b[0m     \u001b[1;32mdef\u001b[0m \u001b[0m_value_or_default\u001b[0m\u001b[1;33m(\u001b[0m\u001b[0mself\u001b[0m\u001b[1;33m,\u001b[0m \u001b[0mobj\u001b[0m\u001b[1;33m:\u001b[0m \u001b[0mMapping\u001b[0m\u001b[1;33m[\u001b[0m\u001b[0m_KT\u001b[0m\u001b[1;33m,\u001b[0m \u001b[0m_VT\u001b[0m\u001b[1;33m]\u001b[0m\u001b[1;33m,\u001b[0m \u001b[0mkey\u001b[0m\u001b[1;33m:\u001b[0m \u001b[0m_KT\u001b[0m\u001b[1;33m,\u001b[0m \u001b[0mdefault\u001b[0m\u001b[1;33m:\u001b[0m \u001b[0m_VT\u001b[0m\u001b[1;33m)\u001b[0m \u001b[1;33m->\u001b[0m \u001b[0m_VT\u001b[0m\u001b[1;33m:\u001b[0m\u001b[1;33m\u001b[0m\u001b[1;33m\u001b[0m\u001b[0m\n",
      "\u001b[1;31mWebDriverException\u001b[0m: Message: chrome not reachable\n  (Session info: chrome=102.0.5005.63)\nStacktrace:\nBacktrace:\n\tOrdinal0 [0x0036D953+2414931]\n\tOrdinal0 [0x002FF5E1+1963489]\n\tOrdinal0 [0x001EC580+836992]\n\tOrdinal0 [0x001E01E2+786914]\n\tOrdinal0 [0x001E0A18+789016]\n\tOrdinal0 [0x001E22F2+795378]\n\tOrdinal0 [0x001DBCA9+769193]\n\tOrdinal0 [0x001EDA30+842288]\n\tOrdinal0 [0x00243FF2+1196018]\n\tOrdinal0 [0x002342B6+1131190]\n\tOrdinal0 [0x0020E860+976992]\n\tOrdinal0 [0x0020F756+980822]\n\tGetHandleVerifier [0x005DCC62+2510274]\n\tGetHandleVerifier [0x005CF760+2455744]\n\tGetHandleVerifier [0x003FEABA+551962]\n\tGetHandleVerifier [0x003FD916+547446]\n\tOrdinal0 [0x00305F3B+1990459]\n\tOrdinal0 [0x0030A898+2009240]\n\tOrdinal0 [0x0030A985+2009477]\n\tOrdinal0 [0x00313AD1+2046673]\n\tBaseThreadInitThunk [0x76CF6739+25]\n\tRtlGetFullPathName_UEx [0x77CF8FEF+1215]\n\tRtlGetFullPathName_UEx [0x77CF8FBD+1165]\n"
     ]
    }
   ],
   "source": [
    "profilesID = items_urls\n",
    "names = []\n",
    "companies = []\n",
    "locations = []\n",
    "shit = []\n",
    "\n",
    "for profileID in profilesID:\n",
    "    fulllink =  profileID\n",
    "    driver.get(fulllink)\n",
    "    time.sleep(1)\n",
    "    try:\n",
    "        name = driver.find_element(By.CLASS_NAME, \"text-heading-xlarge\").text\n",
    "        names.append(name)\n",
    "    except:\n",
    "        names.append(\"null\")\n",
    "        \n",
    "    try:                                                                                              \n",
    "        location = driver.find_element(By.XPATH, \"//span[@class='text-body-small inline t-black--light break-words']\").text\n",
    "        locations.append(location)\n",
    "    except:\n",
    "        locations.append(\"null\")\n",
    "        \n",
    "    try:    \n",
    "        company = driver.find_element(By.XPATH, \"//h2[@class='pv-text-details__right-panel-item-text hoverable-link-text break-words text-body-small inline']\").text\n",
    "        companies.append(company)\n",
    "    except:\n",
    "        companies.append(\"null\")\n",
    "    "
   ]
  },
  {
   "cell_type": "code",
   "execution_count": null,
   "id": "7b234fe8",
   "metadata": {},
   "outputs": [],
   "source": [
    "ids = [i for i in range(len(items_urls))]\n",
    "df = pd.DataFrame(list(zip(ids, items_urls, companies, locations)), columns =['id', 'links', 'companies', 'locations']) "
   ]
  },
  {
   "cell_type": "code",
   "execution_count": null,
   "id": "74072e09",
   "metadata": {
    "scrolled": false
   },
   "outputs": [],
   "source": [
    "df"
   ]
  },
  {
   "cell_type": "code",
   "execution_count": null,
   "id": "48a3058f",
   "metadata": {},
   "outputs": [],
   "source": [
    "df.to_csv(\"inpt.csv\")"
   ]
  },
  {
   "cell_type": "code",
   "execution_count": null,
   "id": "4b9d0889",
   "metadata": {},
   "outputs": [],
   "source": [
    "\"\"\"profilesID = items_urls\n",
    "names = []\n",
    "companies = []\n",
    "locs = []\n",
    "\n",
    "for profileID in profilesID:\n",
    "    fulllink =  profileID\n",
    "    driver.get(fulllink)\n",
    "    time.sleep(8)\n",
    "    src = driver.page_source\n",
    "    soup = BeautifulSoup(src, 'lxml')\n",
    "\n",
    "    #scraping locations\n",
    "    name_div = soup.find('h1', {'class': 'text-heading-xlarge'}).text\n",
    "    print(name_div)\n",
    "    loc = []\n",
    "    for i in range(len(name_div)):\n",
    "        span = name_div[i].find_all('span')\n",
    "        loc.append(span[1].get_text().strip())\n",
    "    locs.append(loc)\n",
    "\n",
    "    #scraping companies\n",
    "    name_div = soup.find_all('p', {'class': 'pv-entity__secondary-title t-14 t-black t-normal'})\n",
    "    company = []\n",
    "    for i in range(len(name_div)):\n",
    "        company.append(name_div[i].get_text().strip())\n",
    "    companies.append(company)\n",
    "    print(companies)\"\"\""
   ]
  },
  {
   "cell_type": "code",
   "execution_count": null,
   "id": "7dc9c58a",
   "metadata": {},
   "outputs": [],
   "source": [
    "\"\"\"while len(items_urls) < 100:\n",
    "\n",
    "    # keyboard.press_and_release('down arrow')\n",
    "    driver.execute_script(\"window.scrollTo(0, document.body.scrollHeight/.1);\")\n",
    "    time.sleep(.7)\n",
    "    cards_links = driver.find_elements(By.CLASS_NAME, \"org-people-profile-card__profile-info\")\n",
    "    if cards_links == testing:\n",
    "        count += 1\n",
    "    if count == 10:\n",
    "        break\n",
    "    for card in cards_links:\n",
    "        try:\n",
    "            item_url = card.get_attribute('href')\n",
    "            items_urls.append(item_url)\n",
    "        except:\n",
    "            continue\n",
    "    testing = driver.find_elements_by_xpath(\n",
    "        \"//section[@class='annonces ng-star-inserted']//a\")\n",
    "    cards_links = []\n",
    "    print(len(items_urls))\"\"\""
   ]
  },
  {
   "cell_type": "code",
   "execution_count": null,
   "id": "22652520",
   "metadata": {},
   "outputs": [],
   "source": []
  }
 ],
 "metadata": {
  "kernelspec": {
   "display_name": "Python 3 (ipykernel)",
   "language": "python",
   "name": "python3"
  },
  "language_info": {
   "codemirror_mode": {
    "name": "ipython",
    "version": 3
   },
   "file_extension": ".py",
   "mimetype": "text/x-python",
   "name": "python",
   "nbconvert_exporter": "python",
   "pygments_lexer": "ipython3",
   "version": "3.9.7"
  }
 },
 "nbformat": 4,
 "nbformat_minor": 5
}
