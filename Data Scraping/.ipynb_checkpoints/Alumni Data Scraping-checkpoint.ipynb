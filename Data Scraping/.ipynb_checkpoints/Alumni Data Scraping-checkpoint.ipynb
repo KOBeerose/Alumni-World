{
 "cells": [
  {
   "cell_type": "code",
   "execution_count": 1,
   "id": "1306a832",
   "metadata": {},
   "outputs": [],
   "source": [
    "# importing all the necessary libaries\n",
    "import os\n",
    "import csv\n",
    "import time\n",
    "import string\n",
    "import keyboard\n",
    "import pandas as pd\n",
    "from re import search\n",
    "from bs4 import BeautifulSoup\n",
    "\n",
    "from selenium import webdriver\n",
    "from selenium.webdriver.common.by import By\n",
    "from selenium.webdriver.common.keys import Keys\n",
    "from selenium.webdriver.chrome.service import Service\n",
    "from selenium.webdriver.chrome.options import Options\n",
    "from selenium.webdriver.support.ui import WebDriverWait\n",
    "from webdriver_manager.chrome import ChromeDriverManager\n",
    "from selenium.webdriver.support import expected_conditions as EC\n",
    "from selenium.webdriver.common.action_chains import ActionChains"
   ]
  },
  {
   "cell_type": "code",
   "execution_count": 2,
   "id": "83598c68",
   "metadata": {},
   "outputs": [],
   "source": [
    "# define your school name right here:\n",
    "\n",
    "School_name = \"Institut National des Postes et Télécommunications\""
   ]
  },
  {
   "cell_type": "code",
   "execution_count": 10,
   "id": "8146a21c",
   "metadata": {
    "scrolled": false
   },
   "outputs": [
    {
     "name": "stderr",
     "output_type": "stream",
     "text": [
      "\n",
      "\n",
      "====== WebDriver manager ======\n",
      "Current google-chrome version is 102.0.5005\n",
      "Get LATEST chromedriver version for 102.0.5005 google-chrome\n",
      "Driver [C:\\Users\\tahae\\.wdm\\drivers\\chromedriver\\win32\\102.0.5005.61\\chromedriver.exe] found in cache\n"
     ]
    }
   ],
   "source": [
    "# defining the webdriver and config btw this code will be almost the same in all of your selenium scripts\n",
    "options = Options()\n",
    "\n",
    "# !!! blocking browser notifications !!!\n",
    "prefs = {\"profile.default_content_setting_values.notifications\": 2}\n",
    "options.add_experimental_option(\"prefs\", prefs)\n",
    "\n",
    "# starting in maximized window\n",
    "options.add_argument(\"start-maximized\")\n",
    "options.add_argument(\"--disable-default-apps\")\n",
    "driver = webdriver.Chrome(service=Service(ChromeDriverManager().install()), options=options)"
   ]
  },
  {
   "cell_type": "code",
   "execution_count": null,
   "id": "e5137bf1",
   "metadata": {},
   "outputs": [],
   "source": [
    "driver.get(\"https://www.linkedin.com/login/\")"
   ]
  },
  {
   "cell_type": "code",
   "execution_count": 5,
   "id": "6e3a93bc",
   "metadata": {},
   "outputs": [],
   "source": [
    "username = os.environ.get(\"ln_us\")\n",
    "password = os.environ.get(\"ln_ps\")"
   ]
  },
  {
   "cell_type": "code",
   "execution_count": 6,
   "id": "1518a7f3",
   "metadata": {},
   "outputs": [],
   "source": [
    "username_field = driver.find_element(By.ID,\"username\")\n",
    "username_field.send_keys(username)\n",
    "\n",
    "password_field = driver.find_element(By.ID,\"password\")\n",
    "password_field.send_keys(password)\n",
    "\n",
    "password_field.submit()"
   ]
  },
  {
   "cell_type": "code",
   "execution_count": 7,
   "id": "542f0747",
   "metadata": {},
   "outputs": [
    {
     "data": {
      "text/plain": [
       "'search_bar = driver.find_element(By.CLASS_NAME,\"search-global-typeahead__input\")\\nsearch_bar.send_keys(School_name)\\ntime.sleep(1)\\nkeyboard.press_and_release(\\'enter\\')'"
      ]
     },
     "execution_count": 7,
     "metadata": {},
     "output_type": "execute_result"
    }
   ],
   "source": [
    "'''search_bar = driver.find_element(By.CLASS_NAME,\"search-global-typeahead__input\")\n",
    "search_bar.send_keys(School_name)\n",
    "time.sleep(1)\n",
    "keyboard.press_and_release('enter')'''"
   ]
  },
  {
   "cell_type": "code",
   "execution_count": 8,
   "id": "6b576b24",
   "metadata": {},
   "outputs": [],
   "source": [
    "driver.get(\"https://www.linkedin.com/search/results/schools/?keywords=\"+School_name)\n",
    "time.sleep(3)"
   ]
  },
  {
   "cell_type": "code",
   "execution_count": 9,
   "id": "af565a38",
   "metadata": {},
   "outputs": [
    {
     "ename": "NoSuchElementException",
     "evalue": "Message: no such element: Unable to locate element: {\"method\":\"xpath\",\"selector\":\"//*[@id=\"main\"]/div/div/div[1]/ul/li/div/div/div[2]/div/div[1]/div/span/span/a\"}\n  (Session info: chrome=102.0.5005.63)\nStacktrace:\nBacktrace:\n\tOrdinal0 [0x0036D953+2414931]\n\tOrdinal0 [0x002FF5E1+1963489]\n\tOrdinal0 [0x001EC6B8+837304]\n\tOrdinal0 [0x00219500+1021184]\n\tOrdinal0 [0x0021979B+1021851]\n\tOrdinal0 [0x00246502+1205506]\n\tOrdinal0 [0x002344E4+1131748]\n\tOrdinal0 [0x00244812+1198098]\n\tOrdinal0 [0x002342B6+1131190]\n\tOrdinal0 [0x0020E860+976992]\n\tOrdinal0 [0x0020F756+980822]\n\tGetHandleVerifier [0x005DCC62+2510274]\n\tGetHandleVerifier [0x005CF760+2455744]\n\tGetHandleVerifier [0x003FEABA+551962]\n\tGetHandleVerifier [0x003FD916+547446]\n\tOrdinal0 [0x00305F3B+1990459]\n\tOrdinal0 [0x0030A898+2009240]\n\tOrdinal0 [0x0030A985+2009477]\n\tOrdinal0 [0x00313AD1+2046673]\n\tBaseThreadInitThunk [0x76CF6739+25]\n\tRtlGetFullPathName_UEx [0x77CF8FEF+1215]\n\tRtlGetFullPathName_UEx [0x77CF8FBD+1165]\n",
     "output_type": "error",
     "traceback": [
      "\u001b[1;31m---------------------------------------------------------------------------\u001b[0m",
      "\u001b[1;31mNoSuchElementException\u001b[0m                    Traceback (most recent call last)",
      "\u001b[1;32m~\\AppData\\Local\\Temp/ipykernel_11116/1998775952.py\u001b[0m in \u001b[0;36m<module>\u001b[1;34m\u001b[0m\n\u001b[0;32m      1\u001b[0m \u001b[1;31m#first_result = WebDriverWait(driver, 2).until(EC.element_to_be_clickable((By.XPATH, \"\"\"//*[@id=\"main\"]/div/div/div[1]/ul/li/div/div/div[2]/div/div[1]/div/span/span/a\"\"\")))\u001b[0m\u001b[1;33m\u001b[0m\u001b[1;33m\u001b[0m\u001b[0m\n\u001b[0;32m      2\u001b[0m \u001b[1;31m#first_result.click()\u001b[0m\u001b[1;33m\u001b[0m\u001b[1;33m\u001b[0m\u001b[0m\n\u001b[1;32m----> 3\u001b[1;33m \u001b[0mschool_url\u001b[0m \u001b[1;33m=\u001b[0m \u001b[0mdriver\u001b[0m\u001b[1;33m.\u001b[0m\u001b[0mfind_element\u001b[0m\u001b[1;33m(\u001b[0m\u001b[0mBy\u001b[0m\u001b[1;33m.\u001b[0m\u001b[0mXPATH\u001b[0m\u001b[1;33m,\u001b[0m \u001b[1;34m\"\"\"//*[@id=\"main\"]/div/div/div[1]/ul/li/div/div/div[2]/div/div[1]/div/span/span/a\"\"\"\u001b[0m\u001b[1;33m)\u001b[0m\u001b[1;33m.\u001b[0m\u001b[0mget_attribute\u001b[0m\u001b[1;33m(\u001b[0m\u001b[1;34m'href'\u001b[0m\u001b[1;33m)\u001b[0m\u001b[1;33m\u001b[0m\u001b[1;33m\u001b[0m\u001b[0m\n\u001b[0m\u001b[0;32m      4\u001b[0m \u001b[0mdriver\u001b[0m\u001b[1;33m.\u001b[0m\u001b[0mget\u001b[0m\u001b[1;33m(\u001b[0m\u001b[0mschool_url\u001b[0m\u001b[1;33m)\u001b[0m\u001b[1;33m\u001b[0m\u001b[1;33m\u001b[0m\u001b[0m\n",
      "\u001b[1;32m~\\anaconda3\\lib\\site-packages\\selenium\\webdriver\\remote\\webdriver.py\u001b[0m in \u001b[0;36mfind_element\u001b[1;34m(self, by, value)\u001b[0m\n\u001b[0;32m   1246\u001b[0m             \u001b[0mvalue\u001b[0m \u001b[1;33m=\u001b[0m \u001b[1;34m'[name=\"%s\"]'\u001b[0m \u001b[1;33m%\u001b[0m \u001b[0mvalue\u001b[0m\u001b[1;33m\u001b[0m\u001b[1;33m\u001b[0m\u001b[0m\n\u001b[0;32m   1247\u001b[0m \u001b[1;33m\u001b[0m\u001b[0m\n\u001b[1;32m-> 1248\u001b[1;33m         return self.execute(Command.FIND_ELEMENT, {\n\u001b[0m\u001b[0;32m   1249\u001b[0m             \u001b[1;34m'using'\u001b[0m\u001b[1;33m:\u001b[0m \u001b[0mby\u001b[0m\u001b[1;33m,\u001b[0m\u001b[1;33m\u001b[0m\u001b[1;33m\u001b[0m\u001b[0m\n\u001b[0;32m   1250\u001b[0m             'value': value})['value']\n",
      "\u001b[1;32m~\\anaconda3\\lib\\site-packages\\selenium\\webdriver\\remote\\webdriver.py\u001b[0m in \u001b[0;36mexecute\u001b[1;34m(self, driver_command, params)\u001b[0m\n\u001b[0;32m    423\u001b[0m         \u001b[0mresponse\u001b[0m \u001b[1;33m=\u001b[0m \u001b[0mself\u001b[0m\u001b[1;33m.\u001b[0m\u001b[0mcommand_executor\u001b[0m\u001b[1;33m.\u001b[0m\u001b[0mexecute\u001b[0m\u001b[1;33m(\u001b[0m\u001b[0mdriver_command\u001b[0m\u001b[1;33m,\u001b[0m \u001b[0mparams\u001b[0m\u001b[1;33m)\u001b[0m\u001b[1;33m\u001b[0m\u001b[1;33m\u001b[0m\u001b[0m\n\u001b[0;32m    424\u001b[0m         \u001b[1;32mif\u001b[0m \u001b[0mresponse\u001b[0m\u001b[1;33m:\u001b[0m\u001b[1;33m\u001b[0m\u001b[1;33m\u001b[0m\u001b[0m\n\u001b[1;32m--> 425\u001b[1;33m             \u001b[0mself\u001b[0m\u001b[1;33m.\u001b[0m\u001b[0merror_handler\u001b[0m\u001b[1;33m.\u001b[0m\u001b[0mcheck_response\u001b[0m\u001b[1;33m(\u001b[0m\u001b[0mresponse\u001b[0m\u001b[1;33m)\u001b[0m\u001b[1;33m\u001b[0m\u001b[1;33m\u001b[0m\u001b[0m\n\u001b[0m\u001b[0;32m    426\u001b[0m             response['value'] = self._unwrap_value(\n\u001b[0;32m    427\u001b[0m                 response.get('value', None))\n",
      "\u001b[1;32m~\\anaconda3\\lib\\site-packages\\selenium\\webdriver\\remote\\errorhandler.py\u001b[0m in \u001b[0;36mcheck_response\u001b[1;34m(self, response)\u001b[0m\n\u001b[0;32m    245\u001b[0m                 \u001b[0malert_text\u001b[0m \u001b[1;33m=\u001b[0m \u001b[0mvalue\u001b[0m\u001b[1;33m[\u001b[0m\u001b[1;34m'alert'\u001b[0m\u001b[1;33m]\u001b[0m\u001b[1;33m.\u001b[0m\u001b[0mget\u001b[0m\u001b[1;33m(\u001b[0m\u001b[1;34m'text'\u001b[0m\u001b[1;33m)\u001b[0m\u001b[1;33m\u001b[0m\u001b[1;33m\u001b[0m\u001b[0m\n\u001b[0;32m    246\u001b[0m             \u001b[1;32mraise\u001b[0m \u001b[0mexception_class\u001b[0m\u001b[1;33m(\u001b[0m\u001b[0mmessage\u001b[0m\u001b[1;33m,\u001b[0m \u001b[0mscreen\u001b[0m\u001b[1;33m,\u001b[0m \u001b[0mstacktrace\u001b[0m\u001b[1;33m,\u001b[0m \u001b[0malert_text\u001b[0m\u001b[1;33m)\u001b[0m  \u001b[1;31m# type: ignore[call-arg]  # mypy is not smart enough here\u001b[0m\u001b[1;33m\u001b[0m\u001b[1;33m\u001b[0m\u001b[0m\n\u001b[1;32m--> 247\u001b[1;33m         \u001b[1;32mraise\u001b[0m \u001b[0mexception_class\u001b[0m\u001b[1;33m(\u001b[0m\u001b[0mmessage\u001b[0m\u001b[1;33m,\u001b[0m \u001b[0mscreen\u001b[0m\u001b[1;33m,\u001b[0m \u001b[0mstacktrace\u001b[0m\u001b[1;33m)\u001b[0m\u001b[1;33m\u001b[0m\u001b[1;33m\u001b[0m\u001b[0m\n\u001b[0m\u001b[0;32m    248\u001b[0m \u001b[1;33m\u001b[0m\u001b[0m\n\u001b[0;32m    249\u001b[0m     \u001b[1;32mdef\u001b[0m \u001b[0m_value_or_default\u001b[0m\u001b[1;33m(\u001b[0m\u001b[0mself\u001b[0m\u001b[1;33m,\u001b[0m \u001b[0mobj\u001b[0m\u001b[1;33m:\u001b[0m \u001b[0mMapping\u001b[0m\u001b[1;33m[\u001b[0m\u001b[0m_KT\u001b[0m\u001b[1;33m,\u001b[0m \u001b[0m_VT\u001b[0m\u001b[1;33m]\u001b[0m\u001b[1;33m,\u001b[0m \u001b[0mkey\u001b[0m\u001b[1;33m:\u001b[0m \u001b[0m_KT\u001b[0m\u001b[1;33m,\u001b[0m \u001b[0mdefault\u001b[0m\u001b[1;33m:\u001b[0m \u001b[0m_VT\u001b[0m\u001b[1;33m)\u001b[0m \u001b[1;33m->\u001b[0m \u001b[0m_VT\u001b[0m\u001b[1;33m:\u001b[0m\u001b[1;33m\u001b[0m\u001b[1;33m\u001b[0m\u001b[0m\n",
      "\u001b[1;31mNoSuchElementException\u001b[0m: Message: no such element: Unable to locate element: {\"method\":\"xpath\",\"selector\":\"//*[@id=\"main\"]/div/div/div[1]/ul/li/div/div/div[2]/div/div[1]/div/span/span/a\"}\n  (Session info: chrome=102.0.5005.63)\nStacktrace:\nBacktrace:\n\tOrdinal0 [0x0036D953+2414931]\n\tOrdinal0 [0x002FF5E1+1963489]\n\tOrdinal0 [0x001EC6B8+837304]\n\tOrdinal0 [0x00219500+1021184]\n\tOrdinal0 [0x0021979B+1021851]\n\tOrdinal0 [0x00246502+1205506]\n\tOrdinal0 [0x002344E4+1131748]\n\tOrdinal0 [0x00244812+1198098]\n\tOrdinal0 [0x002342B6+1131190]\n\tOrdinal0 [0x0020E860+976992]\n\tOrdinal0 [0x0020F756+980822]\n\tGetHandleVerifier [0x005DCC62+2510274]\n\tGetHandleVerifier [0x005CF760+2455744]\n\tGetHandleVerifier [0x003FEABA+551962]\n\tGetHandleVerifier [0x003FD916+547446]\n\tOrdinal0 [0x00305F3B+1990459]\n\tOrdinal0 [0x0030A898+2009240]\n\tOrdinal0 [0x0030A985+2009477]\n\tOrdinal0 [0x00313AD1+2046673]\n\tBaseThreadInitThunk [0x76CF6739+25]\n\tRtlGetFullPathName_UEx [0x77CF8FEF+1215]\n\tRtlGetFullPathName_UEx [0x77CF8FBD+1165]\n"
     ]
    }
   ],
   "source": [
    "#first_result = WebDriverWait(driver, 2).until(EC.element_to_be_clickable((By.XPATH, \"\"\"//*[@id=\"main\"]/div/div/div[1]/ul/li/div/div/div[2]/div/div[1]/div/span/span/a\"\"\")))\n",
    "#first_result.click()\n",
    "school_url = driver.find_element(By.XPATH, \"\"\"//*[@id=\"main\"]/div/div/div[1]/ul/li/div/div/div[2]/div/div[1]/div/span/span/a\"\"\").get_attribute('href')\n",
    "driver.get(school_url)"
   ]
  },
  {
   "cell_type": "code",
   "execution_count": null,
   "id": "e21ef569",
   "metadata": {},
   "outputs": [],
   "source": [
    "driver.get(driver.current_url+\"people\")\n",
    "time.sleep(3)"
   ]
  },
  {
   "cell_type": "code",
   "execution_count": null,
   "id": "022bb07d",
   "metadata": {
    "scrolled": false
   },
   "outputs": [],
   "source": [
    "count = 0\n",
    "items_urls = []\n",
    "testing = []\n",
    "cards_links = driver.find_elements(By.CLASS_NAME, \"org-people-profile-card__profile-info\")\n",
    "print(len(cards_links))\n",
    "for card in cards_links: print(card.text+\"\\n----------------------------------\\n\")\n"
   ]
  },
  {
   "cell_type": "code",
   "execution_count": null,
   "id": "b30b799c",
   "metadata": {
    "scrolled": true
   },
   "outputs": [],
   "source": [
    "print(\"lengh is: \"+str(len(cards_links)))\n",
    "for card in cards_links: print(card.text+\"\\n----------------------------------\\n\")"
   ]
  },
  {
   "cell_type": "code",
   "execution_count": null,
   "id": "81cc95eb",
   "metadata": {
    "scrolled": true
   },
   "outputs": [],
   "source": [
    "count = 0\n",
    "items_urls = []\n",
    "testing = []\n",
    "\n",
    "cards = driver.find_elements(By.XPATH, \"//body[@class='render-mode-BIGPIPE nav-v2 ember-application icons-loaded boot-complete']/div[@class='application-outlet']/div[@class='authentication-outlet']/div[@class='organization-outlet relative']/div[2]/div[1]/div[2]/main[1]/div[2]/div[1]/div[2]/div[1]/div[1]/ul[1]/li/section[1]/div[1]/div[1]/div[1]/a\")\n",
    "\n",
    "for card in cards:\n",
    "    print(card.get_attribute('href'))\n"
   ]
  },
  {
   "cell_type": "code",
   "execution_count": null,
   "id": "340a0866",
   "metadata": {},
   "outputs": [],
   "source": [
    "bol = 0\n",
    "while bol<1000:\n",
    "    driver.execute_script(\"window.scrollTo(0, document.body.scrollHeight/.1);\")\n",
    "    time.sleep(.7)\n",
    "    try:\n",
    "        show_more = driver.find_element(By.XPATH, \"//button[@class='artdeco-button artdeco-button--muted artdeco-button--1 artdeco-button--full artdeco-button--secondary ember-view scaffold-finite-scroll__load-button']\")\n",
    "        show_more.click()\n",
    "    except :\n",
    "        continue\n",
    "    bol+=1\n",
    "    "
   ]
  },
  {
   "cell_type": "code",
   "execution_count": null,
   "id": "b1c2cf9b",
   "metadata": {
    "scrolled": false
   },
   "outputs": [],
   "source": [
    "\n",
    "count = 0\n",
    "items_urls = []\n",
    "testing = []\n",
    "while len(items_urls) < 3000:\n",
    "\n",
    "    # keyboard.press_and_release('down arrow')\n",
    "    driver.execute_script(\"window.scrollTo(0, document.body.scrollHeight/.1);\")\n",
    "    time.sleep(.7)\n",
    "    cards_links = driver.find_elements(By.XPATH, \"//body[@class='render-mode-BIGPIPE nav-v2 ember-application icons-loaded boot-complete']/div[@class='application-outlet']/div[@class='authentication-outlet']/div[@class='organization-outlet relative']/div[2]/div[1]/div[2]/main[1]/div[2]/div[1]/div[2]/div[1]/div[1]/ul[1]/li/section[1]/div[1]/div[1]/div[1]/a\")\n",
    "    if cards_links == testing:\n",
    "        break\n",
    "    for card in cards_links:\n",
    "        try:\n",
    "            items_urls.append(card.get_attribute('href'))\n",
    "        except:\n",
    "            continue\n",
    "    testing = driver.find_elements(By.XPATH, \"//body[@class='render-mode-BIGPIPE nav-v2 ember-application icons-loaded boot-complete']/div[@class='application-outlet']/div[@class='authentication-outlet']/div[@class='organization-outlet relative']/div[2]/div[1]/div[2]/main[1]/div[2]/div[1]/div[2]/div[1]/div[1]/ul[1]/li/section[1]/div[1]/div[1]/div[1]/a\")\n",
    "    cards_links = []\n",
    "print(items_urls)"
   ]
  },
  {
   "cell_type": "code",
   "execution_count": null,
   "id": "2b743087",
   "metadata": {},
   "outputs": [],
   "source": [
    "print(len(cards_links))"
   ]
  },
  {
   "cell_type": "code",
   "execution_count": null,
   "id": "225ca813",
   "metadata": {},
   "outputs": [],
   "source": [
    "profilesID = items_urls\n",
    "names = []\n",
    "companies = []\n",
    "locations = []\n",
    "shit = []\n",
    "\n",
    "for profileID in profilesID:\n",
    "    fulllink =  profileID\n",
    "    driver.get(fulllink)\n",
    "    time.sleep(1)\n",
    "    try:\n",
    "        name = driver.find_element(By.CLASS_NAME, \"text-heading-xlarge\").text\n",
    "        names.append(name)\n",
    "    except:\n",
    "        names.append(\"null\")\n",
    "        \n",
    "    try:                                                                                              \n",
    "        location = driver.find_element(By.XPATH, \"//span[@class='text-body-small inline t-black--light break-words']\").text\n",
    "        locations.append(location)\n",
    "    except:\n",
    "        locations.append(\"null\")\n",
    "        \n",
    "    try:    \n",
    "        company = driver.find_element(By.XPATH, \"//h2[@class='pv-text-details__right-panel-item-text hoverable-link-text break-words text-body-small inline']\").text\n",
    "        companies.append(company)\n",
    "    except:\n",
    "        companies.append(\"null\")\n",
    "    "
   ]
  },
  {
   "cell_type": "code",
   "execution_count": null,
   "id": "7b234fe8",
   "metadata": {},
   "outputs": [],
   "source": [
    "ids = [i for i in range(len(items_urls))]\n",
    "df = pd.DataFrame(list(zip(ids, items_urls, companies, locations)), columns =['id', 'links', 'companies', 'locations']) "
   ]
  },
  {
   "cell_type": "code",
   "execution_count": null,
   "id": "74072e09",
   "metadata": {
    "scrolled": false
   },
   "outputs": [],
   "source": [
    "df"
   ]
  },
  {
   "cell_type": "code",
   "execution_count": null,
   "id": "48a3058f",
   "metadata": {},
   "outputs": [],
   "source": [
    "df.to_csv(\"inpt.csv\")"
   ]
  },
  {
   "cell_type": "code",
   "execution_count": null,
   "id": "4b9d0889",
   "metadata": {},
   "outputs": [],
   "source": [
    "\"\"\"profilesID = items_urls\n",
    "names = []\n",
    "companies = []\n",
    "locs = []\n",
    "\n",
    "for profileID in profilesID:\n",
    "    fulllink =  profileID\n",
    "    driver.get(fulllink)\n",
    "    time.sleep(8)\n",
    "    src = driver.page_source\n",
    "    soup = BeautifulSoup(src, 'lxml')\n",
    "\n",
    "    #scraping locations\n",
    "    name_div = soup.find('h1', {'class': 'text-heading-xlarge'}).text\n",
    "    print(name_div)\n",
    "    loc = []\n",
    "    for i in range(len(name_div)):\n",
    "        span = name_div[i].find_all('span')\n",
    "        loc.append(span[1].get_text().strip())\n",
    "    locs.append(loc)\n",
    "\n",
    "    #scraping companies\n",
    "    name_div = soup.find_all('p', {'class': 'pv-entity__secondary-title t-14 t-black t-normal'})\n",
    "    company = []\n",
    "    for i in range(len(name_div)):\n",
    "        company.append(name_div[i].get_text().strip())\n",
    "    companies.append(company)\n",
    "    print(companies)\"\"\""
   ]
  },
  {
   "cell_type": "code",
   "execution_count": null,
   "id": "7dc9c58a",
   "metadata": {},
   "outputs": [],
   "source": [
    "\"\"\"while len(items_urls) < 100:\n",
    "\n",
    "    # keyboard.press_and_release('down arrow')\n",
    "    driver.execute_script(\"window.scrollTo(0, document.body.scrollHeight/.1);\")\n",
    "    time.sleep(.7)\n",
    "    cards_links = driver.find_elements(By.CLASS_NAME, \"org-people-profile-card__profile-info\")\n",
    "    if cards_links == testing:\n",
    "        count += 1\n",
    "    if count == 10:\n",
    "        break\n",
    "    for card in cards_links:\n",
    "        try:\n",
    "            item_url = card.get_attribute('href')\n",
    "            items_urls.append(item_url)\n",
    "        except:\n",
    "            continue\n",
    "    testing = driver.find_elements_by_xpath(\n",
    "        \"//section[@class='annonces ng-star-inserted']//a\")\n",
    "    cards_links = []\n",
    "    print(len(items_urls))\"\"\""
   ]
  },
  {
   "cell_type": "code",
   "execution_count": null,
   "id": "22652520",
   "metadata": {},
   "outputs": [],
   "source": []
  }
 ],
 "metadata": {
  "kernelspec": {
   "display_name": "Python 3 (ipykernel)",
   "language": "python",
   "name": "python3"
  },
  "language_info": {
   "codemirror_mode": {
    "name": "ipython",
    "version": 3
   },
   "file_extension": ".py",
   "mimetype": "text/x-python",
   "name": "python",
   "nbconvert_exporter": "python",
   "pygments_lexer": "ipython3",
   "version": "3.9.7"
  }
 },
 "nbformat": 4,
 "nbformat_minor": 5
}
